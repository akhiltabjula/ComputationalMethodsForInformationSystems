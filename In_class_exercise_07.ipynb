{
  "nbformat": 4,
  "nbformat_minor": 0,
  "metadata": {
    "kernelspec": {
      "display_name": "Python 3",
      "language": "python",
      "name": "python3"
    },
    "language_info": {
      "codemirror_mode": {
        "name": "ipython",
        "version": 3
      },
      "file_extension": ".py",
      "mimetype": "text/x-python",
      "name": "python",
      "nbconvert_exporter": "python",
      "pygments_lexer": "ipython3",
      "version": "3.7.4"
    },
    "colab": {
      "name": "In_class_exercise_07.ipynb",
      "provenance": [],
      "collapsed_sections": [],
      "include_colab_link": true
    }
  },
  "cells": [
    {
      "cell_type": "markdown",
      "metadata": {
        "id": "view-in-github",
        "colab_type": "text"
      },
      "source": [
        "<a href=\"https://colab.research.google.com/github/akhiltabjula/ComputationalMethodsForInformationSystems/blob/master/In_class_exercise_07.ipynb\" target=\"_parent\"><img src=\"https://colab.research.google.com/assets/colab-badge.svg\" alt=\"Open In Colab\"/></a>"
      ]
    },
    {
      "cell_type": "markdown",
      "metadata": {
        "id": "Mk4yCRfvdR5C"
      },
      "source": [
        "# **The seventh in-class-exercise (20 points in total, 10/21/2020)**"
      ]
    },
    {
      "cell_type": "markdown",
      "metadata": {
        "id": "Th7EOuGXdR5G"
      },
      "source": [
        "Question description: In the last in-class-exercise (exercise-06), you collected the titles of 100 articles about data science, natural language processing, and machine learning. The 100 article titles will be used as the text corpus of this exercise. Perform the following tasks:"
      ]
    },
    {
      "cell_type": "markdown",
      "metadata": {
        "id": "GxyOKdmZdR5J"
      },
      "source": [
        "## (1) (8 points) Generate K topics by using LDA, the number of topics K should be decided by the coherence score, then summarize what are the topics. You may refer the code here: \n",
        "\n",
        "https://www.machinelearningplus.com/nlp/topic-modeling-gensim-python/"
      ]
    },
    {
      "cell_type": "code",
      "metadata": {
        "id": "64nxY1s5dR5L",
        "outputId": "c80361a2-1fad-456f-d5de-bf0f14bec0c0",
        "colab": {
          "base_uri": "https://localhost:8080/",
          "height": 68
        }
      },
      "source": [
        "# Write your code here\n",
        "import nltk; \n",
        "nltk.download('stopwords')"
      ],
      "execution_count": null,
      "outputs": [
        {
          "output_type": "stream",
          "text": [
            "[nltk_data] Downloading package stopwords to /root/nltk_data...\n",
            "[nltk_data]   Package stopwords is already up-to-date!\n"
          ],
          "name": "stdout"
        },
        {
          "output_type": "execute_result",
          "data": {
            "text/plain": [
              "True"
            ]
          },
          "metadata": {
            "tags": []
          },
          "execution_count": 45
        }
      ]
    },
    {
      "cell_type": "code",
      "metadata": {
        "id": "16AiVfFqZZXu",
        "outputId": "5c008c4a-a91a-48e0-9cd3-ad0170216a54",
        "colab": {
          "base_uri": "https://localhost:8080/",
          "height": 734
        }
      },
      "source": [
        "!pip install spacy\n",
        "!pip install pyLDAvis"
      ],
      "execution_count": null,
      "outputs": [
        {
          "output_type": "stream",
          "text": [
            "Requirement already satisfied: spacy in /usr/local/lib/python3.6/dist-packages (2.2.4)\n",
            "Requirement already satisfied: cymem<2.1.0,>=2.0.2 in /usr/local/lib/python3.6/dist-packages (from spacy) (2.0.3)\n",
            "Requirement already satisfied: catalogue<1.1.0,>=0.0.7 in /usr/local/lib/python3.6/dist-packages (from spacy) (1.0.0)\n",
            "Requirement already satisfied: srsly<1.1.0,>=1.0.2 in /usr/local/lib/python3.6/dist-packages (from spacy) (1.0.2)\n",
            "Requirement already satisfied: tqdm<5.0.0,>=4.38.0 in /usr/local/lib/python3.6/dist-packages (from spacy) (4.41.1)\n",
            "Requirement already satisfied: wasabi<1.1.0,>=0.4.0 in /usr/local/lib/python3.6/dist-packages (from spacy) (0.8.0)\n",
            "Requirement already satisfied: murmurhash<1.1.0,>=0.28.0 in /usr/local/lib/python3.6/dist-packages (from spacy) (1.0.2)\n",
            "Requirement already satisfied: thinc==7.4.0 in /usr/local/lib/python3.6/dist-packages (from spacy) (7.4.0)\n",
            "Requirement already satisfied: requests<3.0.0,>=2.13.0 in /usr/local/lib/python3.6/dist-packages (from spacy) (2.23.0)\n",
            "Requirement already satisfied: blis<0.5.0,>=0.4.0 in /usr/local/lib/python3.6/dist-packages (from spacy) (0.4.1)\n",
            "Requirement already satisfied: numpy>=1.15.0 in /usr/local/lib/python3.6/dist-packages (from spacy) (1.18.5)\n",
            "Requirement already satisfied: setuptools in /usr/local/lib/python3.6/dist-packages (from spacy) (50.3.0)\n",
            "Requirement already satisfied: plac<1.2.0,>=0.9.6 in /usr/local/lib/python3.6/dist-packages (from spacy) (1.1.3)\n",
            "Requirement already satisfied: preshed<3.1.0,>=3.0.2 in /usr/local/lib/python3.6/dist-packages (from spacy) (3.0.2)\n",
            "Requirement already satisfied: importlib-metadata>=0.20; python_version < \"3.8\" in /usr/local/lib/python3.6/dist-packages (from catalogue<1.1.0,>=0.0.7->spacy) (2.0.0)\n",
            "Requirement already satisfied: idna<3,>=2.5 in /usr/local/lib/python3.6/dist-packages (from requests<3.0.0,>=2.13.0->spacy) (2.10)\n",
            "Requirement already satisfied: certifi>=2017.4.17 in /usr/local/lib/python3.6/dist-packages (from requests<3.0.0,>=2.13.0->spacy) (2020.6.20)\n",
            "Requirement already satisfied: urllib3!=1.25.0,!=1.25.1,<1.26,>=1.21.1 in /usr/local/lib/python3.6/dist-packages (from requests<3.0.0,>=2.13.0->spacy) (1.24.3)\n",
            "Requirement already satisfied: chardet<4,>=3.0.2 in /usr/local/lib/python3.6/dist-packages (from requests<3.0.0,>=2.13.0->spacy) (3.0.4)\n",
            "Requirement already satisfied: zipp>=0.5 in /usr/local/lib/python3.6/dist-packages (from importlib-metadata>=0.20; python_version < \"3.8\"->catalogue<1.1.0,>=0.0.7->spacy) (3.2.0)\n",
            "Requirement already satisfied: pyLDAvis in /usr/local/lib/python3.6/dist-packages (2.1.2)\n",
            "Requirement already satisfied: pandas>=0.17.0 in /usr/local/lib/python3.6/dist-packages (from pyLDAvis) (1.1.2)\n",
            "Requirement already satisfied: future in /usr/local/lib/python3.6/dist-packages (from pyLDAvis) (0.16.0)\n",
            "Requirement already satisfied: pytest in /usr/local/lib/python3.6/dist-packages (from pyLDAvis) (3.6.4)\n",
            "Requirement already satisfied: jinja2>=2.7.2 in /usr/local/lib/python3.6/dist-packages (from pyLDAvis) (2.11.2)\n",
            "Requirement already satisfied: numpy>=1.9.2 in /usr/local/lib/python3.6/dist-packages (from pyLDAvis) (1.18.5)\n",
            "Requirement already satisfied: scipy>=0.18.0 in /usr/local/lib/python3.6/dist-packages (from pyLDAvis) (1.4.1)\n",
            "Requirement already satisfied: wheel>=0.23.0 in /usr/local/lib/python3.6/dist-packages (from pyLDAvis) (0.35.1)\n",
            "Requirement already satisfied: funcy in /usr/local/lib/python3.6/dist-packages (from pyLDAvis) (1.15)\n",
            "Requirement already satisfied: joblib>=0.8.4 in /usr/local/lib/python3.6/dist-packages (from pyLDAvis) (0.16.0)\n",
            "Requirement already satisfied: numexpr in /usr/local/lib/python3.6/dist-packages (from pyLDAvis) (2.7.1)\n",
            "Requirement already satisfied: python-dateutil>=2.7.3 in /usr/local/lib/python3.6/dist-packages (from pandas>=0.17.0->pyLDAvis) (2.8.1)\n",
            "Requirement already satisfied: pytz>=2017.2 in /usr/local/lib/python3.6/dist-packages (from pandas>=0.17.0->pyLDAvis) (2018.9)\n",
            "Requirement already satisfied: py>=1.5.0 in /usr/local/lib/python3.6/dist-packages (from pytest->pyLDAvis) (1.9.0)\n",
            "Requirement already satisfied: setuptools in /usr/local/lib/python3.6/dist-packages (from pytest->pyLDAvis) (50.3.0)\n",
            "Requirement already satisfied: attrs>=17.4.0 in /usr/local/lib/python3.6/dist-packages (from pytest->pyLDAvis) (20.2.0)\n",
            "Requirement already satisfied: more-itertools>=4.0.0 in /usr/local/lib/python3.6/dist-packages (from pytest->pyLDAvis) (8.5.0)\n",
            "Requirement already satisfied: six>=1.10.0 in /usr/local/lib/python3.6/dist-packages (from pytest->pyLDAvis) (1.15.0)\n",
            "Requirement already satisfied: pluggy<0.8,>=0.5 in /usr/local/lib/python3.6/dist-packages (from pytest->pyLDAvis) (0.7.1)\n",
            "Requirement already satisfied: atomicwrites>=1.0 in /usr/local/lib/python3.6/dist-packages (from pytest->pyLDAvis) (1.4.0)\n",
            "Requirement already satisfied: MarkupSafe>=0.23 in /usr/local/lib/python3.6/dist-packages (from jinja2>=2.7.2->pyLDAvis) (1.1.1)\n"
          ],
          "name": "stdout"
        }
      ]
    },
    {
      "cell_type": "code",
      "metadata": {
        "id": "0EuaeMuxkC6J"
      },
      "source": [
        "import re\n",
        "import numpy as np\n",
        "import pandas as pd\n",
        "from pprint import pprint\n",
        "\n",
        "# Gensim\n",
        "import gensim\n",
        "import gensim.corpora as corpora\n",
        "from gensim.utils import simple_preprocess\n",
        "from gensim.models import CoherenceModel\n",
        "\n",
        "# spacy for lemmatization\n",
        "import spacy\n",
        "\n",
        "# Plotting tools\n",
        "import pyLDAvis\n",
        "import pyLDAvis.gensim  # don't skip this\n",
        "import matplotlib.pyplot as plt\n",
        "%matplotlib inline\n",
        "\n",
        "# Enable logging for gensim - optional\n",
        "import logging\n",
        "logging.basicConfig(format='%(asctime)s : %(levelname)s : %(message)s', level=logging.ERROR)\n",
        "\n",
        "import warnings\n",
        "warnings.filterwarnings(\"ignore\",category=DeprecationWarning)"
      ],
      "execution_count": null,
      "outputs": []
    },
    {
      "cell_type": "code",
      "metadata": {
        "id": "JgTd0-Zlk6I8"
      },
      "source": [
        "# NLTK Stop words\n",
        "from nltk.corpus import stopwords\n",
        "stop_words = stopwords.words('english')"
      ],
      "execution_count": null,
      "outputs": []
    },
    {
      "cell_type": "code",
      "metadata": {
        "id": "Gi7E2vlSnZgF",
        "outputId": "69f69e79-2acb-47ed-aedb-0603fdd6d4d6",
        "colab": {
          "base_uri": "https://localhost:8080/",
          "height": 119
        }
      },
      "source": [
        "import pandas as pd\n",
        "df = pd.read_csv(\"/content/titles.csv\")\n",
        "df[\"Title\"].head()"
      ],
      "execution_count": null,
      "outputs": [
        {
          "output_type": "execute_result",
          "data": {
            "text/plain": [
              "0                               Data science in action\n",
              "1    Data science and its relationship to big data ...\n",
              "2    Data Science for Business: What you need to kn...\n",
              "3                          Data science and prediction\n",
              "4    Data science, predictive analytics, and big da...\n",
              "Name: Title, dtype: object"
            ]
          },
          "metadata": {
            "tags": []
          },
          "execution_count": 50
        }
      ]
    },
    {
      "cell_type": "code",
      "metadata": {
        "id": "ufRVZ4Rqo-dE",
        "outputId": "6dd06438-45fd-485a-bb08-8f5185cd7c46",
        "colab": {
          "base_uri": "https://localhost:8080/",
          "height": 54
        }
      },
      "source": [
        "df[\"Title\"]=df[\"Title\"].str.lower()\n",
        "# Convert to list\n",
        "data = df[\"Title\"].values.tolist()\n",
        "\n",
        "#remove end spacings\n",
        "data = [re.sub(\" $\",\"\",sent) for sent in data]\n",
        "\n",
        "# Remove Emails\n",
        "data = [re.sub('\\S*@\\S*\\s?', '', sent) for sent in data]\n",
        "\n",
        "# Remove new line characters\n",
        "data = [re.sub('\\s+', ' ', sent) for sent in data]\n",
        "\n",
        "# Remove distracting single quotes\n",
        "data = [re.sub(\"\\'\", \"\", sent) for sent in data]\n",
        "\n",
        "print(data[:5])"
      ],
      "execution_count": null,
      "outputs": [
        {
          "output_type": "stream",
          "text": [
            "['data science in action', 'data science and its relationship to big data and data-driven decision making', 'data science for business: what you need to know about data mining and data-analytic thinking', 'data science and prediction', 'data science, predictive analytics, and big data: a revolution that will transform supply chain design and management']\n"
          ],
          "name": "stdout"
        }
      ]
    },
    {
      "cell_type": "code",
      "metadata": {
        "id": "XEXouulezKlZ",
        "outputId": "25308428-972a-4467-9b73-b66b083e8e1f",
        "colab": {
          "base_uri": "https://localhost:8080/",
          "height": 54
        }
      },
      "source": [
        "def sent_to_words(sentences):\n",
        "    for sentence in sentences:\n",
        "        yield(gensim.utils.simple_preprocess(str(sentence), deacc=True))  # deacc=True removes punctuations\n",
        "\n",
        "data_words = list(sent_to_words(data))\n",
        "\n",
        "print(data_words[:5])"
      ],
      "execution_count": null,
      "outputs": [
        {
          "output_type": "stream",
          "text": [
            "[['data', 'science', 'in', 'action'], ['data', 'science', 'and', 'its', 'relationship', 'to', 'big', 'data', 'and', 'data', 'driven', 'decision', 'making'], ['data', 'science', 'for', 'business', 'what', 'you', 'need', 'to', 'know', 'about', 'data', 'mining', 'and', 'data', 'analytic', 'thinking'], ['data', 'science', 'and', 'prediction'], ['data', 'science', 'predictive', 'analytics', 'and', 'big', 'data', 'revolution', 'that', 'will', 'transform', 'supply', 'chain', 'design', 'and', 'management']]\n"
          ],
          "name": "stdout"
        }
      ]
    },
    {
      "cell_type": "code",
      "metadata": {
        "id": "oEq7WNhFzQK-",
        "outputId": "8d12fe3e-d1e2-43cc-8da1-475ad81814cc",
        "colab": {
          "base_uri": "https://localhost:8080/",
          "height": 88
        }
      },
      "source": [
        "# Build the bigram and trigram models\n",
        "bigram = gensim.models.Phrases(data_words, min_count=5, threshold=100) # higher threshold fewer phrases.\n",
        "trigram = gensim.models.Phrases(bigram[data_words], threshold=100)  \n",
        "\n",
        "# Faster way to get a sentence clubbed as a trigram/bigram\n",
        "bigram_mod = gensim.models.phrases.Phraser(bigram)\n",
        "trigram_mod = gensim.models.phrases.Phraser(trigram)\n",
        "\n",
        "# See trigram example\n",
        "print(trigram_mod[bigram_mod[data_words[0]]])"
      ],
      "execution_count": null,
      "outputs": [
        {
          "output_type": "stream",
          "text": [
            "['data', 'science', 'in', 'action']\n"
          ],
          "name": "stdout"
        },
        {
          "output_type": "stream",
          "text": [
            "/usr/local/lib/python3.6/dist-packages/gensim/models/phrases.py:598: UserWarning: For a faster implementation, use the gensim.models.phrases.Phraser class\n",
            "  warnings.warn(\"For a faster implementation, use the gensim.models.phrases.Phraser class\")\n"
          ],
          "name": "stderr"
        }
      ]
    },
    {
      "cell_type": "code",
      "metadata": {
        "id": "DyC5i3Wfz8M6"
      },
      "source": [
        "# Define functions for stopwords, bigrams, trigrams and lemmatization\n",
        "def remove_stopwords(texts):\n",
        "    return [[word for word in simple_preprocess(str(doc)) if word not in stop_words] for doc in texts]\n",
        "\n",
        "def make_bigrams(texts):\n",
        "    return [bigram_mod[doc] for doc in texts]\n",
        "\n",
        "def make_trigrams(texts):\n",
        "    return [trigram_mod[bigram_mod[doc]] for doc in texts]\n",
        "\n",
        "def lemmatization(texts, allowed_postags=['NOUN', 'ADJ', 'VERB', 'ADV']):\n",
        "    \"\"\"https://spacy.io/api/annotation\"\"\"\n",
        "    texts_out = []\n",
        "    for sent in texts:\n",
        "        doc = nlp(\" \".join(sent)) \n",
        "        texts_out.append([token.lemma_ for token in doc if token.pos_ in allowed_postags])\n",
        "    return texts_out"
      ],
      "execution_count": null,
      "outputs": []
    },
    {
      "cell_type": "code",
      "metadata": {
        "id": "aIu82kq30DLl",
        "outputId": "7f4e7b20-aee7-4b4d-e92a-34583280bc5f",
        "colab": {
          "base_uri": "https://localhost:8080/",
          "height": 34
        }
      },
      "source": [
        "# Remove Stop Words\n",
        "data_words_nostops = remove_stopwords(data_words)\n",
        "\n",
        "# Form Bigrams\n",
        "data_words_bigrams = make_bigrams(data_words_nostops)\n",
        "\n",
        "# Initialize spacy 'en' model, keeping only tagger component (for efficiency)\n",
        "# python3 -m spacy download en\n",
        "nlp = spacy.load('en', disable=['parser', 'ner'])\n",
        "\n",
        "# Do lemmatization keeping only noun, adj, vb, adv\n",
        "data_lemmatized = lemmatization(data_words_bigrams, allowed_postags=['NOUN', 'ADJ', 'VERB', 'ADV'])\n",
        "\n",
        "print(data_lemmatized[:1])"
      ],
      "execution_count": null,
      "outputs": [
        {
          "output_type": "stream",
          "text": [
            "[['datum', 'science', 'action']]\n"
          ],
          "name": "stdout"
        }
      ]
    },
    {
      "cell_type": "code",
      "metadata": {
        "id": "nT4BO2AZ0MDr",
        "outputId": "c83eeba7-e4dd-4e17-c191-f5a44445eb3c",
        "colab": {
          "base_uri": "https://localhost:8080/",
          "height": 34
        }
      },
      "source": [
        "# Create Dictionary\n",
        "id2word = corpora.Dictionary(data_lemmatized)\n",
        "\n",
        "# Create Corpus\n",
        "texts = data_lemmatized\n",
        "\n",
        "# Term Document Frequency\n",
        "corpus = [id2word.doc2bow(text) for text in texts]\n",
        "\n",
        "# View\n",
        "print(corpus[:1])"
      ],
      "execution_count": null,
      "outputs": [
        {
          "output_type": "stream",
          "text": [
            "[[(0, 1), (1, 1), (2, 1)]]\n"
          ],
          "name": "stdout"
        }
      ]
    },
    {
      "cell_type": "code",
      "metadata": {
        "id": "KHQm0Sqv0Pjs"
      },
      "source": [
        "res = [[(id2word[id], freq) for id, freq in cp] for cp in corpus[:]]"
      ],
      "execution_count": null,
      "outputs": []
    },
    {
      "cell_type": "code",
      "metadata": {
        "id": "HIYKBdpY_LyC"
      },
      "source": [
        "lda_model = gensim.models.ldamodel.LdaModel(corpus=corpus,id2word=id2word,num_topics=20,random_state=100,update_every=1,chunksize=100,passes=10,alpha='auto',per_word_topics=True)"
      ],
      "execution_count": null,
      "outputs": []
    },
    {
      "cell_type": "code",
      "metadata": {
        "id": "bzqD9qnRlVIG",
        "outputId": "4dde0c0a-d876-4f29-847c-388bdfd16bab",
        "colab": {
          "base_uri": "https://localhost:8080/",
          "height": 1000
        }
      },
      "source": [
        "# Print the Keyword in the 10 topics\n",
        "pprint(lda_model.print_topics())\n",
        "doc_lda = lda_model[corpus]"
      ],
      "execution_count": null,
      "outputs": [
        {
          "output_type": "stream",
          "text": [
            "[(0,\n",
            "  '0.071*\"science\" + 0.071*\"data\" + 0.036*\"list\" + 0.036*\"pass\" + 0.036*\"evil\" '\n",
            "  '+ 0.036*\"wise\" + 0.036*\"miss\" + 0.036*\"cluster\" + 0.036*\"message\" + '\n",
            "  '0.036*\"deletion\"'),\n",
            " (1,\n",
            "  '0.089*\"science\" + 0.046*\"correlated\" + 0.046*\"color\" + 0.046*\"citation\" + '\n",
            "  '0.046*\"new\" + 0.046*\"topic\" + 0.046*\"infrastructure\" + 0.046*\"model\" + '\n",
            "  '0.002*\"benefit\" + 0.002*\"storage\"'),\n",
            " (2,\n",
            "  '0.144*\"datum\" + 0.034*\"management\" + 0.034*\"network\" + 0.017*\"impact\" + '\n",
            "  '0.017*\"supply\" + 0.017*\"transform\" + 0.017*\"citation\" + 0.017*\"count\" + '\n",
            "  '0.017*\"faculty\" + 0.017*\"revolution\"'),\n",
            " (3,\n",
            "  '0.065*\"data\" + 0.065*\"structure\" + 0.044*\"protein\" + 0.044*\"datum\" + '\n",
            "  '0.044*\"fair\" + 0.023*\"science\" + 0.022*\"interaction\" + 0.022*\"cloud\" + '\n",
            "  '0.022*\"predict\" + 0.022*\"network\"'),\n",
            " (4,\n",
            "  '0.175*\"science\" + 0.033*\"biomaterial\" + 0.033*\"method\" + '\n",
            "  '0.033*\"introduction\" + 0.033*\"integrative\" + 0.033*\"person\" + '\n",
            "  '0.033*\"education\" + 0.033*\"qualitative\" + 0.033*\"perspective\" + '\n",
            "  '0.033*\"information\"'),\n",
            " (5,\n",
            "  '0.062*\"run\" + 0.062*\"science\" + 0.062*\"sixth\" + 0.003*\"trap\" + '\n",
            "  '0.003*\"storage\" + 0.003*\"holographic\" + 0.003*\"technique\" + '\n",
            "  '0.003*\"summarize\" + 0.003*\"multivariate\" + 0.003*\"cipre\"'),\n",
            " (6,\n",
            "  '0.039*\"trap\" + 0.039*\"social\" + 0.039*\"come\" + 0.039*\"age\" + '\n",
            "  '0.039*\"predictability\" + 0.039*\"analysis\" + 0.039*\"network\" + '\n",
            "  '0.039*\"assimilation\" + 0.039*\"life\" + 0.039*\"computational\"'),\n",
            " (7,\n",
            "  '0.129*\"science\" + 0.052*\"datum\" + 0.035*\"protein\" + 0.035*\"new\" + '\n",
            "  '0.018*\"next\" + 0.018*\"phylogeny\" + 0.018*\"facility\" + 0.018*\"information\" + '\n",
            "  '0.018*\"action\" + 0.018*\"eukaryote\"'),\n",
            " (8,\n",
            "  '0.092*\"science\" + 0.047*\"climate\" + 0.024*\"teach\" + 0.024*\"benefit\" + '\n",
            "  '0.024*\"community\" + 0.024*\"expert\" + 0.024*\"idea\" + 0.024*\"school\" + '\n",
            "  '0.024*\"study\" + 0.024*\"quality\"'),\n",
            " (9,\n",
            "  '0.055*\"engineering\" + 0.055*\"storage\" + 0.055*\"science\" + '\n",
            "  '0.055*\"holographic\" + 0.055*\"calibration\" + 0.003*\"technique\" + '\n",
            "  '0.003*\"summarize\" + 0.003*\"multivariate\" + 0.003*\"trap\" + 0.003*\"cipre\"'),\n",
            " (10,\n",
            "  '0.107*\"datum\" + 0.061*\"science\" + 0.046*\"mining\" + 0.031*\"make\" + '\n",
            "  '0.031*\"algorithm\" + 0.016*\"machine\" + 0.016*\"data\" + 0.016*\"story\" + '\n",
            "  '0.016*\"sense\" + 0.016*\"far\"'),\n",
            " (11,\n",
            "  '0.066*\"science\" + 0.034*\"discovery\" + 0.034*\"vegetation\" + 0.034*\"early\" + '\n",
            "  '0.034*\"plan\" + 0.034*\"system\" + 0.034*\"biological\" + 0.034*\"comprehensive\" '\n",
            "  '+ 0.034*\"career\" + 0.034*\"fundamental\"'),\n",
            " (12,\n",
            "  '0.076*\"analysis\" + 0.076*\"datum\" + 0.039*\"management\" + 0.039*\"stream\" + '\n",
            "  '0.039*\"social\" + 0.039*\"analyze\" + 0.039*\"key\" + 0.039*\"method\" + '\n",
            "  '0.039*\"science\" + 0.039*\"cluster\"'),\n",
            " (13,\n",
            "  '0.141*\"datum\" + 0.082*\"science\" + 0.055*\"big\" + 0.028*\"analytic\" + '\n",
            "  '0.028*\"research\" + 0.028*\"business\" + 0.028*\"data\" + 0.028*\"nuclear\" + '\n",
            "  '0.015*\"mining\" + 0.014*\"integration\"'),\n",
            " (14,\n",
            "  '0.059*\"science\" + 0.039*\"datum\" + 0.039*\"scientific\" + 0.039*\"method\" + '\n",
            "  '0.039*\"workflow\" + 0.039*\"big\" + 0.020*\"econometric\" + 0.020*\"unrealized\" + '\n",
            "  '0.020*\"intensive\" + 0.020*\"statistic\"'),\n",
            " (15,\n",
            "  '0.058*\"use\" + 0.058*\"analysis\" + 0.058*\"enhance\" + 0.058*\"online\" + '\n",
            "  '0.003*\"summarize\" + 0.003*\"multivariate\" + 0.003*\"cipre\" + 0.003*\"storage\" '\n",
            "  '+ 0.003*\"handbook\" + 0.003*\"holographic\"'),\n",
            " (16,\n",
            "  '0.028*\"knowledge\" + 0.028*\"instruction\" + 0.028*\"run\" + 0.028*\"pipeline\" + '\n",
            "  '0.028*\"mission\" + 0.028*\"hipe\" + 0.028*\"fabricate\" + 0.028*\"theoretical\" + '\n",
            "  '0.028*\"role\" + 0.028*\"many\"'),\n",
            " (17,\n",
            "  '0.040*\"gateway\" + 0.040*\"inference\" + 0.040*\"tree\" + 0.040*\"large\" + '\n",
            "  '0.040*\"phylogenetic\" + 0.040*\"create\" + 0.040*\"science\" + 0.040*\"cipre\" + '\n",
            "  '0.040*\"socially\" + 0.040*\"construct\"'),\n",
            " (18,\n",
            "  '0.090*\"datum\" + 0.037*\"science\" + 0.019*\"free\" + 0.019*\"nuclear\" + '\n",
            "  '0.019*\"decay\" + 0.019*\"vii\" + 0.019*\"technology\" + 0.019*\"section\" + '\n",
            "  '0.019*\"product\" + 0.019*\"omega\"'),\n",
            " (19,\n",
            "  '0.060*\"science\" + 0.031*\"detect\" + 0.031*\"hirise\" + 0.031*\"reconnaissance\" '\n",
            "  '+ 0.031*\"orbiter\" + 0.031*\"large\" + 0.031*\"image\" + 0.031*\"set\" + '\n",
            "  '0.031*\"experiment\" + 0.031*\"time\"')]\n"
          ],
          "name": "stdout"
        }
      ]
    },
    {
      "cell_type": "code",
      "metadata": {
        "id": "kiTDGkOvlgzu",
        "outputId": "9723ad9c-abda-4f66-8b6b-ed8c0b1757f4",
        "colab": {
          "base_uri": "https://localhost:8080/",
          "height": 85
        }
      },
      "source": [
        "# Compute Perplexity\n",
        "print('\\nPerplexity: ', lda_model.log_perplexity(corpus))  # a measure of how good the model is. lower the better.\n",
        "\n",
        "# Compute Coherence Score\n",
        "coherence_model_lda = CoherenceModel(model=lda_model, texts=data_lemmatized, dictionary=id2word, coherence='c_v')\n",
        "coherence_lda = coherence_model_lda.get_coherence()\n",
        "print('\\nCoherence Score: ', coherence_lda)"
      ],
      "execution_count": null,
      "outputs": [
        {
          "output_type": "stream",
          "text": [
            "\n",
            "Perplexity:  -6.488077987007932\n",
            "\n",
            "Coherence Score:  0.5101519145002923\n"
          ],
          "name": "stdout"
        }
      ]
    },
    {
      "cell_type": "code",
      "metadata": {
        "id": "q4Bo-fxsZ1mr",
        "outputId": "b7c4eb6a-b9ed-4266-ff96-1e7b587e814c",
        "colab": {
          "base_uri": "https://localhost:8080/",
          "height": 207
        }
      },
      "source": [
        "!pip install --upgrade gensim"
      ],
      "execution_count": null,
      "outputs": [
        {
          "output_type": "stream",
          "text": [
            "Requirement already up-to-date: gensim in /usr/local/lib/python3.6/dist-packages (3.8.3)\n",
            "Requirement already satisfied, skipping upgrade: scipy>=0.18.1 in /usr/local/lib/python3.6/dist-packages (from gensim) (1.4.1)\n",
            "Requirement already satisfied, skipping upgrade: six>=1.5.0 in /usr/local/lib/python3.6/dist-packages (from gensim) (1.15.0)\n",
            "Requirement already satisfied, skipping upgrade: numpy>=1.11.3 in /usr/local/lib/python3.6/dist-packages (from gensim) (1.18.5)\n",
            "Requirement already satisfied, skipping upgrade: smart-open>=1.8.1 in /usr/local/lib/python3.6/dist-packages (from gensim) (2.2.0)\n",
            "Requirement already satisfied, skipping upgrade: requests in /usr/local/lib/python3.6/dist-packages (from smart-open>=1.8.1->gensim) (2.23.0)\n",
            "Requirement already satisfied, skipping upgrade: idna<3,>=2.5 in /usr/local/lib/python3.6/dist-packages (from requests->smart-open>=1.8.1->gensim) (2.10)\n",
            "Requirement already satisfied, skipping upgrade: certifi>=2017.4.17 in /usr/local/lib/python3.6/dist-packages (from requests->smart-open>=1.8.1->gensim) (2020.6.20)\n",
            "Requirement already satisfied, skipping upgrade: urllib3!=1.25.0,!=1.25.1,<1.26,>=1.21.1 in /usr/local/lib/python3.6/dist-packages (from requests->smart-open>=1.8.1->gensim) (1.24.3)\n",
            "Requirement already satisfied, skipping upgrade: chardet<4,>=3.0.2 in /usr/local/lib/python3.6/dist-packages (from requests->smart-open>=1.8.1->gensim) (3.0.4)\n"
          ],
          "name": "stdout"
        }
      ]
    },
    {
      "cell_type": "code",
      "metadata": {
        "id": "IhVB4KqQwJKW",
        "outputId": "a4d7bc94-c688-446c-ad6a-fe15d4215560",
        "colab": {
          "base_uri": "https://localhost:8080/",
          "height": 68
        }
      },
      "source": [
        "import os       #importing os to set environment variable\n",
        "def install_java():\n",
        "  !apt-get install -y openjdk-8-jdk-headless -qq > /dev/null      #install openjdk\n",
        "  os.environ[\"JAVA_HOME\"] = \"/usr/lib/jvm/java-8-openjdk-amd64\"     #set environment variable\n",
        "  !java -version       #check java version\n",
        "install_java()"
      ],
      "execution_count": null,
      "outputs": [
        {
          "output_type": "stream",
          "text": [
            "openjdk version \"11.0.8\" 2020-07-14\n",
            "OpenJDK Runtime Environment (build 11.0.8+10-post-Ubuntu-0ubuntu118.04.1)\n",
            "OpenJDK 64-Bit Server VM (build 11.0.8+10-post-Ubuntu-0ubuntu118.04.1, mixed mode, sharing)\n"
          ],
          "name": "stdout"
        }
      ]
    },
    {
      "cell_type": "code",
      "metadata": {
        "id": "rMFg_tbtoPG3"
      },
      "source": [
        "!wget http://mallet.cs.umass.edu/dist/mallet-2.0.8.zip\n",
        "!unzip mallet-2.0.8.zip"
      ],
      "execution_count": null,
      "outputs": []
    },
    {
      "cell_type": "code",
      "metadata": {
        "id": "xQJI0TJRlv1-",
        "outputId": "b5c943f1-7777-4a12-e1cb-673f59c0fdce",
        "colab": {
          "base_uri": "https://localhost:8080/",
          "height": 71
        }
      },
      "source": [
        "os.environ['MALLET_HOME'] = '/content/mallet-2.0.8'\n",
        "mallet_path = '/content/mallet-2.0.8/bin/mallet'\n",
        " \n",
        "ldamallet = gensim.models.wrappers.LdaMallet(mallet_path, corpus=corpus, num_topics=20, id2word=id2word)"
      ],
      "execution_count": null,
      "outputs": [
        {
          "output_type": "stream",
          "text": [
            "/usr/local/lib/python3.6/dist-packages/smart_open/smart_open_lib.py:252: UserWarning: This function is deprecated, use smart_open.open instead. See the migration notes for details: https://github.com/RaRe-Technologies/smart_open/blob/master/README.rst#migrating-to-the-new-open-function\n",
            "  'See the migration notes for details: %s' % _MIGRATION_NOTES_URL\n"
          ],
          "name": "stderr"
        }
      ]
    },
    {
      "cell_type": "code",
      "metadata": {
        "id": "lbJl-y4hpEKh",
        "outputId": "ec82bff8-5860-455c-cf10-1463d37092f3",
        "colab": {
          "base_uri": "https://localhost:8080/",
          "height": 1000
        }
      },
      "source": [
        "# Show Topics\n",
        "pprint(ldamallet.show_topics(formatted=False))\n",
        "\n"
      ],
      "execution_count": null,
      "outputs": [
        {
          "output_type": "stream",
          "text": [
            "[(10,\n",
            "  [('analytic', 0.20833333333333334),\n",
            "   ('citizen', 0.08333333333333333),\n",
            "   ('climate', 0.08333333333333333),\n",
            "   ('algorithm', 0.08333333333333333),\n",
            "   ('sixth', 0.041666666666666664),\n",
            "   ('projection', 0.041666666666666664),\n",
            "   ('neural', 0.041666666666666664),\n",
            "   ('comprehensive', 0.041666666666666664),\n",
            "   ('predictive', 0.041666666666666664),\n",
            "   ('business', 0.041666666666666664)]),\n",
            " (1,\n",
            "  [('research', 0.18518518518518517),\n",
            "   ('practice', 0.07407407407407407),\n",
            "   ('endf', 0.07407407407407407),\n",
            "   ('monitoring', 0.037037037037037035),\n",
            "   ('unrealized', 0.037037037037037035),\n",
            "   ('potential', 0.037037037037037035),\n",
            "   ('analysis', 0.037037037037037035),\n",
            "   ('biodiversity', 0.037037037037037035),\n",
            "   ('miss', 0.037037037037037035),\n",
            "   ('grid', 0.037037037037037035)]),\n",
            " (18,\n",
            "  [('science', 0.44),\n",
            "   ('structure', 0.16),\n",
            "   ('fisherie', 0.04),\n",
            "   ('cloud', 0.04),\n",
            "   ('pipeline', 0.04),\n",
            "   ('increasingly', 0.04),\n",
            "   ('challenge', 0.04),\n",
            "   ('miss', 0.04),\n",
            "   ('covariance', 0.04),\n",
            "   ('run', 0.04)]),\n",
            " (15,\n",
            "  [('data', 0.3333333333333333),\n",
            "   ('analyze', 0.08333333333333333),\n",
            "   ('predictability', 0.041666666666666664),\n",
            "   ('econometric', 0.041666666666666664),\n",
            "   ('key', 0.041666666666666664),\n",
            "   ('large', 0.041666666666666664),\n",
            "   ('link', 0.041666666666666664),\n",
            "   ('inference', 0.041666666666666664),\n",
            "   ('person', 0.041666666666666664),\n",
            "   ('intensive', 0.041666666666666664)]),\n",
            " (17,\n",
            "  [('mining', 0.18518518518518517),\n",
            "   ('change', 0.1111111111111111),\n",
            "   ('discover', 0.037037037037037035),\n",
            "   ('network', 0.037037037037037035),\n",
            "   ('dimensionality', 0.037037037037037035),\n",
            "   ('quality', 0.037037037037037035),\n",
            "   ('form', 0.037037037037037035),\n",
            "   ('message', 0.037037037037037035),\n",
            "   ('reconnaissance', 0.037037037037037035),\n",
            "   ('integrative', 0.037037037037037035)]),\n",
            " (3,\n",
            "  [('protein', 0.17391304347826086),\n",
            "   ('big', 0.08695652173913043),\n",
            "   ('point', 0.043478260869565216),\n",
            "   ('web', 0.043478260869565216),\n",
            "   ('fundamental', 0.043478260869565216),\n",
            "   ('computational', 0.043478260869565216),\n",
            "   ('decay', 0.043478260869565216),\n",
            "   ('link', 0.043478260869565216),\n",
            "   ('hipe', 0.043478260869565216),\n",
            "   ('impact', 0.043478260869565216)]),\n",
            " (19,\n",
            "  [('vii', 0.10526315789473684),\n",
            "   ('multilevel', 0.05263157894736842),\n",
            "   ('benefit', 0.05263157894736842),\n",
            "   ('quantified', 0.05263157894736842),\n",
            "   ('tap', 0.05263157894736842),\n",
            "   ('infrastructure', 0.05263157894736842),\n",
            "   ('social', 0.05263157894736842),\n",
            "   ('topic', 0.05263157894736842),\n",
            "   ('transform', 0.05263157894736842),\n",
            "   ('free', 0.05263157894736842)]),\n",
            " (8,\n",
            "  [('datum', 0.7948717948717948),\n",
            "   ('business', 0.02564102564102564),\n",
            "   ('causal', 0.02564102564102564),\n",
            "   ('technique', 0.02564102564102564),\n",
            "   ('text', 0.02564102564102564),\n",
            "   ('resolution', 0.02564102564102564),\n",
            "   ('mining', 0.02564102564102564),\n",
            "   ('imputation', 0.02564102564102564),\n",
            "   ('global', 0.02564102564102564),\n",
            "   ('handbook', 0.0)]),\n",
            " (2,\n",
            "  [('management', 0.21052631578947367),\n",
            "   ('scientific', 0.21052631578947367),\n",
            "   ('principle', 0.05263157894736842),\n",
            "   ('truth', 0.05263157894736842),\n",
            "   ('distribution', 0.05263157894736842),\n",
            "   ('count', 0.05263157894736842),\n",
            "   ('data', 0.05263157894736842),\n",
            "   ('medicine', 0.05263157894736842),\n",
            "   ('fabricate', 0.05263157894736842),\n",
            "   ('win', 0.05263157894736842)]),\n",
            " (5,\n",
            "  [('science', 0.7083333333333334),\n",
            "   ('discovery', 0.08333333333333333),\n",
            "   ('free', 0.041666666666666664),\n",
            "   ('result', 0.041666666666666664),\n",
            "   ('hirise', 0.041666666666666664),\n",
            "   ('career', 0.041666666666666664),\n",
            "   ('orbiter', 0.041666666666666664),\n",
            "   ('multivariate', 0.0),\n",
            "   ('summarize', 0.0),\n",
            "   ('handbook', 0.0)])]\n"
          ],
          "name": "stdout"
        }
      ]
    },
    {
      "cell_type": "code",
      "metadata": {
        "id": "CMT1mGD8bS64",
        "outputId": "76294f9c-d947-400c-b696-539938029bbb",
        "colab": {
          "base_uri": "https://localhost:8080/",
          "height": 51
        }
      },
      "source": [
        "# Compute Coherence Score\n",
        "coherence_model_ldamallet = CoherenceModel(model=ldamallet, texts=data_lemmatized, dictionary=id2word, coherence='c_v')\n",
        "coherence_ldamallet = coherence_model_ldamallet.get_coherence()\n",
        "print('\\nCoherence Score: ', coherence_ldamallet)"
      ],
      "execution_count": null,
      "outputs": [
        {
          "output_type": "stream",
          "text": [
            "\n",
            "Coherence Score:  0.759461562081104\n"
          ],
          "name": "stdout"
        }
      ]
    },
    {
      "cell_type": "code",
      "metadata": {
        "id": "b_RpplOs2VTE"
      },
      "source": [
        "def compute_coherence_values(dictionary, corpus, texts, start, limit, step):\n",
        "    \"\"\"\n",
        "    Compute c_v coherence for various number of topics\n",
        "\n",
        "    Parameters:\n",
        "    ----------\n",
        "    dictionary : Gensim dictionary\n",
        "    corpus : Gensim corpus\n",
        "    texts : List of input texts\n",
        "    limit : Max num of topics\n",
        "\n",
        "    Returns:\n",
        "    -------\n",
        "    model_list : List of LDA topic models\n",
        "    coherence_values : Coherence values corresponding to the LDA model with respective number of topics\n",
        "    \"\"\"\n",
        "    coherence_values = []\n",
        "    model_list = []\n",
        "    for num_topics in range(start, limit, step):\n",
        "        model = gensim.models.wrappers.LdaMallet(mallet_path, corpus=corpus, num_topics=num_topics, id2word=id2word)\n",
        "        model_list.append(model)\n",
        "        coherencemodel = CoherenceModel(model=model, texts=texts, dictionary=dictionary, coherence='c_v')\n",
        "        coherence_values.append(coherencemodel.get_coherence())\n",
        "\n",
        "    return model_list, coherence_values"
      ],
      "execution_count": null,
      "outputs": []
    },
    {
      "cell_type": "code",
      "metadata": {
        "id": "ZHzGfaRU2d-U",
        "outputId": "8699399f-aaa0-4015-a8a4-d6d90bf654cf",
        "colab": {
          "base_uri": "https://localhost:8080/",
          "height": 71
        }
      },
      "source": [
        "model_list, coherence_values_lda = compute_coherence_values(dictionary=id2word, corpus=corpus, texts=data_lemmatized, start=2, limit=40, step=6)"
      ],
      "execution_count": null,
      "outputs": [
        {
          "output_type": "stream",
          "text": [
            "/usr/local/lib/python3.6/dist-packages/smart_open/smart_open_lib.py:252: UserWarning: This function is deprecated, use smart_open.open instead. See the migration notes for details: https://github.com/RaRe-Technologies/smart_open/blob/master/README.rst#migrating-to-the-new-open-function\n",
            "  'See the migration notes for details: %s' % _MIGRATION_NOTES_URL\n"
          ],
          "name": "stderr"
        }
      ]
    },
    {
      "cell_type": "code",
      "metadata": {
        "id": "ndNSQymJ3kj_"
      },
      "source": [
        "# Show graph\n",
        "limit=40; start=2; step=6;\n",
        "x = range(start, limit, step)"
      ],
      "execution_count": null,
      "outputs": []
    },
    {
      "cell_type": "code",
      "metadata": {
        "id": "hgiVZsJK2yy5",
        "outputId": "76e52f93-4780-49b7-8215-5adeadfb47fd",
        "colab": {
          "base_uri": "https://localhost:8080/",
          "height": 136
        }
      },
      "source": [
        "for m, cv in zip(x, coherence_values_lda):\n",
        "    print(\"Num Topics =\", m, \" has Coherence Value of\", round(cv, 4))"
      ],
      "execution_count": null,
      "outputs": [
        {
          "output_type": "stream",
          "text": [
            "Num Topics = 2  has Coherence Value of 0.6946\n",
            "Num Topics = 8  has Coherence Value of 0.7618\n",
            "Num Topics = 14  has Coherence Value of 0.7716\n",
            "Num Topics = 20  has Coherence Value of 0.7687\n",
            "Num Topics = 26  has Coherence Value of 0.7555\n",
            "Num Topics = 32  has Coherence Value of 0.7491\n",
            "Num Topics = 38  has Coherence Value of 0.7269\n"
          ],
          "name": "stdout"
        }
      ]
    },
    {
      "cell_type": "markdown",
      "metadata": {
        "id": "uFI05v9Wbo0r"
      },
      "source": [
        "**Here the coherence score is increasing for every topic. Hence the model is realtively acceptable**"
      ]
    },
    {
      "cell_type": "code",
      "metadata": {
        "id": "DNfchqKfZIoh",
        "outputId": "d06abe6c-7be5-4de3-a75a-c439a84cbfdd",
        "colab": {
          "base_uri": "https://localhost:8080/",
          "height": 279
        }
      },
      "source": [
        "plt.plot(x, coherence_values_lda)\n",
        "plt.xlabel(\"Number of Topics\")\n",
        "plt.ylabel(\"Coherence score\")\n",
        "plt.legend((\"coherence_values\"), loc='best')\n",
        "plt.show()"
      ],
      "execution_count": null,
      "outputs": [
        {
          "output_type": "display_data",
          "data": {
            "image/png": "[encoded data removed]",
            "text/plain": [
              "<Figure size 432x288 with 1 Axes>"
            ]
          },
          "metadata": {
            "tags": [],
            "needs_background": "light"
          }
        }
      ]
    },
    {
      "cell_type": "code",
      "metadata": {
        "id": "hgIPle2h26TD",
        "outputId": "2f7f3997-8c2f-4c40-f302-105dc0bbb872",
        "colab": {
          "base_uri": "https://localhost:8080/",
          "height": 1000
        }
      },
      "source": [
        "# Select the model and print the topics\n",
        "optimal_model = model_list[5]\n",
        "model_topics = optimal_model.show_topics(formatted=False)\n",
        "pprint(optimal_model.print_topics(num_words=10))"
      ],
      "execution_count": null,
      "outputs": [
        {
          "output_type": "stream",
          "text": [
            "[(13,\n",
            "  '0.222*\"datum\" + 0.111*\"construct\" + 0.111*\"monitoring\" + 0.111*\"business\" + '\n",
            "  '0.111*\"application\" + 0.111*\"color\" + 0.111*\"big\" + 0.111*\"discovery\" + '\n",
            "  '0.000*\"cipre\" + 0.000*\"holographic\"'),\n",
            " (16,\n",
            "  '0.455*\"science\" + 0.091*\"global\" + 0.045*\"history\" + 0.045*\"potential\" + '\n",
            "  '0.045*\"section\" + 0.045*\"biomaterial\" + 0.045*\"correlated\" + '\n",
            "  '0.045*\"integrative\" + 0.045*\"idea\" + 0.045*\"free\"'),\n",
            " (21,\n",
            "  '0.273*\"model\" + 0.182*\"information\" + 0.091*\"literacy\" + 0.091*\"study\" + '\n",
            "  '0.091*\"signaling\" + 0.091*\"processing\" + 0.091*\"run\" + 0.091*\"cluster\" + '\n",
            "  '0.000*\"summarize\" + 0.000*\"trap\"'),\n",
            " (24,\n",
            "  '0.467*\"science\" + 0.067*\"hirise\" + 0.067*\"technology\" + 0.067*\"machine\" + '\n",
            "  '0.067*\"implication\" + 0.067*\"discovery\" + 0.067*\"practice\" + 0.067*\"dawn\" + '\n",
            "  '0.067*\"problem\" + 0.000*\"holographic\"'),\n",
            " (7,\n",
            "  '0.188*\"structure\" + 0.125*\"big\" + 0.062*\"evaluate\" + 0.062*\"omega\" + '\n",
            "  '0.062*\"thinking\" + 0.062*\"guide\" + 0.062*\"qualitative\" + 0.062*\"neural\" + '\n",
            "  '0.062*\"link\" + 0.062*\"increasingly\"'),\n",
            " (0,\n",
            "  '0.250*\"computer\" + 0.125*\"principle\" + 0.125*\"revisit\" + 0.125*\"design\" + '\n",
            "  '0.125*\"scientist\" + 0.125*\"datum\" + 0.125*\"fair\" + 0.000*\"holographic\" + '\n",
            "  '0.000*\"technique\" + 0.000*\"storage\"'),\n",
            " (26,\n",
            "  '0.100*\"run\" + 0.100*\"promise\" + 0.100*\"fundamental\" + '\n",
            "  '0.100*\"administrative\" + 0.100*\"trick\" + 0.100*\"multivariate\" + '\n",
            "  '0.100*\"conceptual\" + 0.100*\"eukaryote\" + 0.100*\"fair\" + 0.100*\"natural\"'),\n",
            " (22,\n",
            "  '0.333*\"protein\" + 0.222*\"datum\" + 0.111*\"report\" + 0.111*\"principle\" + '\n",
            "  '0.111*\"win\" + 0.111*\"instruction\" + 0.000*\"trap\" + 0.000*\"summarize\" + '\n",
            "  '0.000*\"technique\" + 0.000*\"multivariate\"'),\n",
            " (31,\n",
            "  '0.176*\"science\" + 0.118*\"system\" + 0.059*\"education\" + 0.059*\"story\" + '\n",
            "  '0.059*\"make\" + 0.059*\"investment\" + 0.059*\"perspective\" + 0.059*\"tool\" + '\n",
            "  '0.059*\"generation\" + 0.059*\"archive\"'),\n",
            " (8,\n",
            "  '0.231*\"management\" + 0.154*\"change\" + 0.077*\"challenge\" + 0.077*\"solution\" '\n",
            "  '+ 0.077*\"tree\" + 0.077*\"pipeline\" + 0.077*\"miss\" + 0.077*\"impact\" + '\n",
            "  '0.077*\"fabricate\" + 0.077*\"consumer\"'),\n",
            " (20,\n",
            "  '0.214*\"datum\" + 0.143*\"introduction\" + 0.071*\"point\" + 0.071*\"count\" + '\n",
            "  '0.071*\"large\" + 0.071*\"citation\" + 0.071*\"free\" + 0.071*\"open\" + '\n",
            "  '0.071*\"hipe\" + 0.071*\"reconnaissance\"'),\n",
            " (27,\n",
            "  '0.500*\"data\" + 0.056*\"approach\" + 0.056*\"customer\" + 0.056*\"school\" + '\n",
            "  '0.056*\"practice\" + 0.056*\"integration\" + 0.056*\"analysis\" + 0.056*\"expert\" '\n",
            "  '+ 0.056*\"terrestrial\" + 0.056*\"multilevel\"'),\n",
            " (18,\n",
            "  '0.125*\"age\" + 0.125*\"analyze\" + 0.062*\"career\" + 0.062*\"information\" + '\n",
            "  '0.062*\"incomplete\" + 0.062*\"product\" + 0.062*\"multiple\" + 0.062*\"fisherie\" '\n",
            "  '+ 0.062*\"person\" + 0.062*\"define\"'),\n",
            " (17,\n",
            "  '0.500*\"datum\" + 0.083*\"vegetation\" + 0.083*\"falsify\" + 0.083*\"predictive\" + '\n",
            "  '0.083*\"analysis\" + 0.083*\"statistic\" + 0.083*\"yield\" + 0.000*\"technique\" + '\n",
            "  '0.000*\"trap\" + 0.000*\"holographic\"'),\n",
            " (6,\n",
            "  '0.214*\"datum\" + 0.143*\"relationship\" + 0.143*\"vii\" + 0.071*\"expand\" + '\n",
            "  '0.071*\"source\" + 0.071*\"global\" + 0.071*\"control\" + 0.071*\"text\" + '\n",
            "  '0.071*\"socially\" + 0.071*\"algorithm\"'),\n",
            " (3,\n",
            "  '0.562*\"science\" + 0.062*\"predict\" + 0.062*\"link\" + 0.062*\"computational\" + '\n",
            "  '0.062*\"phylogenetic\" + 0.062*\"decay\" + 0.062*\"community\" + '\n",
            "  '0.062*\"comprehensive\" + 0.000*\"benefit\" + 0.000*\"challenge\"'),\n",
            " (19,\n",
            "  '0.481*\"datum\" + 0.074*\"algorithm\" + 0.037*\"citizen\" + 0.037*\"review\" + '\n",
            "  '0.037*\"systematic\" + 0.037*\"online\" + 0.037*\"holographic\" + 0.037*\"mission\" '\n",
            "  '+ 0.037*\"topic\" + 0.037*\"ranking\"'),\n",
            " (30,\n",
            "  '0.444*\"science\" + 0.056*\"report\" + 0.056*\"guiding\" + 0.056*\"reduce\" + '\n",
            "  '0.056*\"large\" + 0.056*\"citizen\" + 0.056*\"open\" + 0.056*\"natural\" + '\n",
            "  '0.056*\"datum\" + 0.056*\"truth\"'),\n",
            " (28,\n",
            "  '0.214*\"scientific\" + 0.143*\"management\" + 0.071*\"role\" + 0.071*\"citizen\" + '\n",
            "  '0.071*\"miss\" + 0.071*\"genomic\" + 0.071*\"transform\" + 0.071*\"imputation\" + '\n",
            "  '0.071*\"facility\" + 0.071*\"handbook\"'),\n",
            " (9,\n",
            "  '0.357*\"research\" + 0.071*\"intensive\" + 0.071*\"distil\" + 0.071*\"system\" + '\n",
            "  '0.071*\"sixth\" + 0.071*\"cipre\" + 0.071*\"mineralogical\" + 0.071*\"time\" + '\n",
            "  '0.071*\"resolution\" + 0.071*\"data\"')]\n"
          ],
          "name": "stdout"
        }
      ]
    },
    {
      "cell_type": "markdown",
      "metadata": {
        "id": "m4pLOo7wx5Dn"
      },
      "source": [
        "**Summarised topics from resultant modeling**\n",
        "1.   Scientific researches indicae that role of citizens in transforming ang imputing the world is very important.\n",
        "2.   Increasing age and career will result in increase in productivity of a person and define them if they are fisherie ot incomplete.\n",
        ".\n",
        ".\n",
        "13.  In corporates, changing management will impact fabricating consumers and products."
      ]
    },
    {
      "cell_type": "markdown",
      "metadata": {
        "id": "5HBXmJa_dR5Y"
      },
      "source": [
        "## (2) (8 points) Generate K topics by using LSA, the number of topics K should be decided by the coherence score, then summarize what are the topics. You may refer the code here:\n",
        "\n",
        "https://www.datacamp.com/community/tutorials/discovering-hidden-topics-python"
      ]
    },
    {
      "cell_type": "code",
      "metadata": {
        "id": "KJwVdSYq56dM"
      },
      "source": [
        "number_of_topics = 7"
      ],
      "execution_count": null,
      "outputs": []
    },
    {
      "cell_type": "code",
      "metadata": {
        "id": "pDeD8ZtQ2bTS"
      },
      "source": [
        "def prepare_corpus(doc_clean):\n",
        "    \"\"\"\n",
        "    Input  : clean document\n",
        "    Purpose: create term dictionary of our courpus and Converting list of documents (corpus) into Document Term Matrix\n",
        "    Output : term dictionary and Document Term Matrix\n",
        "    \"\"\"\n",
        "    # Creating the term dictionary of our courpus, where every unique term is assigned an index. dictionary = corpora.Dictionary(doc_clean)\n",
        "    dictionary = corpora.Dictionary(doc_clean)\n",
        "    # Converting list of documents (corpus) into Document Term Matrix using dictionary prepared above.\n",
        "    doc_term_matrix = [dictionary.doc2bow(doc) for doc in doc_clean]\n",
        "    # generate LDA model \n",
        "    return dictionary,doc_term_matrix"
      ],
      "execution_count": null,
      "outputs": []
    },
    {
      "cell_type": "code",
      "metadata": {
        "id": "bKq23MBUlvFP"
      },
      "source": [
        "from gensim.models import LsiModel\n",
        "def create_gensim_lsa_model(doc_clean,number_of_topics,words):\n",
        "    \"\"\"\n",
        "    Input  : clean document, number of topics and number of words associated with each topic\n",
        "    Purpose: create LSA model using gensim\n",
        "    Output : return LSA model\n",
        "    \"\"\"\n",
        "    dictionary,doc_term_matrix=prepare_corpus(doc_clean)\n",
        "    # generate LSA model\n",
        "    lsamodel = LsiModel(doc_term_matrix, num_topics=number_of_topics, id2word = dictionary)  # train model\n",
        "    print(lsamodel.print_topics(num_topics=number_of_topics, num_words=words))\n",
        "    return lsamodel"
      ],
      "execution_count": null,
      "outputs": []
    },
    {
      "cell_type": "code",
      "metadata": {
        "id": "6W5qN0zNk5cP"
      },
      "source": [
        "def compute_coherence_values(dictionary, doc_term_matrix, doc_clean, stop, start, step):\n",
        "    \"\"\"\n",
        "    Input   : dictionary : Gensim dictionary\n",
        "              corpus : Gensim corpus\n",
        "              texts : List of input texts\n",
        "              stop : Max num of topics\n",
        "    purpose : Compute c_v coherence for various number of topics\n",
        "    Output  : model_list : List of LSA topic models\n",
        "              coherence_values : Coherence values corresponding to the LDA model with respective number of topics\n",
        "    \"\"\"\n",
        "    coherence_values = []\n",
        "    model_list = []\n",
        "    for num_topics in range(start, stop, step):\n",
        "        # generate LSA model\n",
        "        model = LsiModel(doc_term_matrix, num_topics=number_of_topics, id2word = dictionary)  # train model\n",
        "        model_list.append(model)\n",
        "        coherencemodel = CoherenceModel(model=model, texts=doc_clean, dictionary=dictionary, coherence='c_v')\n",
        "        coherence_values.append(coherencemodel.get_coherence())\n",
        "    return model_list, coherence_values"
      ],
      "execution_count": null,
      "outputs": []
    },
    {
      "cell_type": "code",
      "metadata": {
        "id": "3-u4DRez5B9J"
      },
      "source": [
        "dictionary,doc_term_matrix=prepare_corpus(data_lemmatized)\n",
        "model_list_lsa, coherence_values_lsa = compute_coherence_values(dictionary, doc_term_matrix,data_lemmatized,40,2,6)"
      ],
      "execution_count": null,
      "outputs": []
    },
    {
      "cell_type": "code",
      "metadata": {
        "id": "IvuGy9BPkBsX",
        "outputId": "639dd82e-59cc-4071-a19b-183a25607ad5",
        "colab": {
          "base_uri": "https://localhost:8080/",
          "height": 136
        }
      },
      "source": [
        "coherence_values_lsa"
      ],
      "execution_count": null,
      "outputs": [
        {
          "output_type": "execute_result",
          "data": {
            "text/plain": [
              "[0.3668808313449678,\n",
              " 0.3668808313449678,\n",
              " 0.4456881620549651,\n",
              " 0.3668808313449678,\n",
              " 0.4456881620549651,\n",
              " 0.3668808313449678,\n",
              " 0.3668808313449678]"
            ]
          },
          "metadata": {
            "tags": []
          },
          "execution_count": 190
        }
      ]
    },
    {
      "cell_type": "code",
      "metadata": {
        "id": "SKnseznnUTeg",
        "outputId": "95fdbeb1-f970-4c6e-a471-c606fa30aa4b",
        "colab": {
          "base_uri": "https://localhost:8080/",
          "height": 279
        }
      },
      "source": [
        "plt.plot(x, coherence_values_lsa)\n",
        "plt.xlabel(\"Number of Topics\")\n",
        "plt.ylabel(\"Coherence score\")\n",
        "plt.legend((\"coherence_values\"), loc='best')\n",
        "plt.show()"
      ],
      "execution_count": null,
      "outputs": [
        {
          "output_type": "display_data",
          "data": {
            "image/png": "[encoded data removed]",
            "text/plain": [
              "<Figure size 432x288 with 1 Axes>"
            ]
          },
          "metadata": {
            "tags": [],
            "needs_background": "light"
          }
        }
      ]
    },
    {
      "cell_type": "code",
      "metadata": {
        "id": "xk4D8HOEdR5a",
        "outputId": "20bf333e-3b11-46c0-8509-8db0c62b4084",
        "colab": {
          "base_uri": "https://localhost:8080/",
          "height": 136
        }
      },
      "source": [
        "# Write your code here\n",
        "for m, cv in zip(x, coherence_values_lsa):\n",
        "    print(\"Num Topics =\", m, \" has Coherence Value of\", round(cv, 4))"
      ],
      "execution_count": null,
      "outputs": [
        {
          "output_type": "stream",
          "text": [
            "Num Topics = 2  has Coherence Value of 0.3669\n",
            "Num Topics = 8  has Coherence Value of 0.3669\n",
            "Num Topics = 14  has Coherence Value of 0.4457\n",
            "Num Topics = 20  has Coherence Value of 0.3669\n",
            "Num Topics = 26  has Coherence Value of 0.4457\n",
            "Num Topics = 32  has Coherence Value of 0.3669\n",
            "Num Topics = 38  has Coherence Value of 0.3669\n"
          ],
          "name": "stdout"
        }
      ]
    },
    {
      "cell_type": "code",
      "metadata": {
        "id": "Cgkt5RH-6ujR",
        "outputId": "5160b5de-6025-4d35-faae-eee493687b69",
        "colab": {
          "base_uri": "https://localhost:8080/",
          "height": 493
        }
      },
      "source": [
        "# Select the model and print the topics\n",
        "optimal_model_lsa = model_list_lsa[5]\n",
        "model_topics_lsa = optimal_model_lsa.show_topics(formatted=False)\n",
        "pprint(optimal_model_lsa.print_topics(num_words=10))"
      ],
      "execution_count": null,
      "outputs": [
        {
          "output_type": "stream",
          "text": [
            "[(0,\n",
            "  '0.755*\"datum\" + 0.562*\"science\" + 0.106*\"mining\" + 0.096*\"big\" + '\n",
            "  '0.082*\"analytic\" + 0.063*\"knowledge\" + 0.055*\"relationship\" + 0.054*\"data\" '\n",
            "  '+ 0.053*\"management\" + 0.050*\"business\"'),\n",
            " (1,\n",
            "  '0.744*\"science\" + -0.538*\"datum\" + -0.128*\"big\" + 0.085*\"research\" + '\n",
            "  '0.079*\"change\" + -0.077*\"protein\" + -0.069*\"analytic\" + -0.069*\"mining\" + '\n",
            "  '0.053*\"scientific\" + 0.052*\"citizen\"'),\n",
            " (2,\n",
            "  '0.622*\"data\" + 0.372*\"nuclear\" + 0.234*\"vii\" + 0.234*\"endf\" + '\n",
            "  '0.234*\"technology\" + 0.158*\"structure\" + 0.144*\"product\" + 0.139*\"next\" + '\n",
            "  '0.138*\"evaluate\" + 0.138*\"generation\"'),\n",
            " (3,\n",
            "  '-0.388*\"data\" + -0.378*\"big\" + -0.276*\"analytic\" + -0.245*\"new\" + '\n",
            "  '0.232*\"nuclear\" + 0.178*\"endf\" + 0.178*\"technology\" + 0.178*\"vii\" + '\n",
            "  '0.174*\"protein\" + -0.125*\"structure\"'),\n",
            " (4,\n",
            "  '-0.293*\"protein\" + -0.292*\"data\" + 0.274*\"big\" + -0.263*\"network\" + '\n",
            "  '0.245*\"analytic\" + 0.242*\"new\" + 0.220*\"nuclear\" + -0.186*\"fair\" + '\n",
            "  '0.161*\"endf\" + 0.161*\"vii\"'),\n",
            " (5,\n",
            "  '-0.341*\"research\" + 0.329*\"fair\" + -0.283*\"protein\" + -0.261*\"global\" + '\n",
            "  '-0.254*\"change\" + -0.233*\"network\" + 0.198*\"principle\" + -0.165*\"citizen\" + '\n",
            "  '0.154*\"open\" + -0.139*\"biodiversity\"'),\n",
            " (6,\n",
            "  '0.349*\"research\" + 0.333*\"fair\" + 0.259*\"global\" + 0.252*\"change\" + '\n",
            "  '-0.230*\"protein\" + -0.220*\"network\" + 0.204*\"principle\" + 0.146*\"citizen\" + '\n",
            "  '0.145*\"management\" + 0.143*\"tap\"')]\n"
          ],
          "name": "stdout"
        }
      ]
    },
    {
      "cell_type": "code",
      "metadata": {
        "id": "u4ybArwHRRRb",
        "outputId": "c6306f7f-72fe-4042-da8f-28e4f26c4ad6",
        "colab": {
          "base_uri": "https://localhost:8080/",
          "height": 71
        }
      },
      "source": [
        "number_of_topics=7\n",
        "words=10\n",
        "model=create_gensim_lsa_model(data_lemmatized,number_of_topics,words)\n",
        "pprint(model)"
      ],
      "execution_count": null,
      "outputs": [
        {
          "output_type": "stream",
          "text": [
            "[(0, '0.755*\"datum\" + 0.562*\"science\" + 0.106*\"mining\" + 0.096*\"big\" + 0.082*\"analytic\" + 0.063*\"knowledge\" + 0.055*\"relationship\" + 0.054*\"data\" + 0.053*\"management\" + 0.050*\"business\"'), (1, '0.744*\"science\" + -0.538*\"datum\" + -0.128*\"big\" + 0.085*\"research\" + 0.079*\"change\" + -0.077*\"protein\" + -0.069*\"analytic\" + -0.069*\"mining\" + 0.053*\"scientific\" + 0.052*\"citizen\"'), (2, '-0.622*\"data\" + -0.372*\"nuclear\" + -0.234*\"endf\" + -0.234*\"technology\" + -0.234*\"vii\" + -0.158*\"structure\" + -0.144*\"product\" + -0.139*\"next\" + -0.138*\"evaluate\" + -0.138*\"generation\"'), (3, '0.388*\"data\" + 0.378*\"big\" + 0.276*\"analytic\" + 0.245*\"new\" + -0.232*\"nuclear\" + -0.178*\"endf\" + -0.178*\"technology\" + -0.178*\"vii\" + -0.174*\"protein\" + 0.125*\"structure\"'), (4, '0.293*\"protein\" + 0.292*\"data\" + -0.274*\"big\" + 0.263*\"network\" + -0.245*\"analytic\" + -0.242*\"new\" + -0.220*\"nuclear\" + 0.186*\"fair\" + -0.161*\"vii\" + -0.161*\"technology\"'), (5, '0.341*\"research\" + -0.329*\"fair\" + 0.283*\"protein\" + 0.261*\"global\" + 0.254*\"change\" + 0.233*\"network\" + -0.198*\"principle\" + 0.165*\"citizen\" + -0.154*\"open\" + 0.139*\"local\"'), (6, '-0.349*\"research\" + -0.333*\"fair\" + -0.259*\"global\" + -0.252*\"change\" + 0.230*\"protein\" + 0.220*\"network\" + -0.204*\"principle\" + -0.146*\"citizen\" + -0.145*\"management\" + -0.143*\"tap\"')]\n",
            "<gensim.models.lsimodel.LsiModel object at 0x7fcda2306128>\n"
          ],
          "name": "stdout"
        }
      ]
    },
    {
      "cell_type": "code",
      "metadata": {
        "id": "jtQr0zHbs4ns"
      },
      "source": [
        ""
      ],
      "execution_count": null,
      "outputs": []
    },
    {
      "cell_type": "markdown",
      "metadata": {
        "id": "VzIj2d1NtAmU"
      },
      "source": [
        "**Summarised topics from resultant modeling**\n",
        "\n",
        "1.   Impelementing big data and data sceinece in any corporates will result in productive growth of business.\n",
        "2.   Using Data science in health care sector, scientific research and develoment departments can imrove health conditions of citizens\n",
        "3.   Controductory, combining data science with AI and nuclear messiles, might relust in erradication of genatrations.\n",
        "4.    Practical implementation of data science, AI and ML in health care and dietary fields can relate to increase muscular growth of generations.\n",
        "5. Data analytics and big data combining will result in change of technological implementations of IOT devices.\n",
        "6. Researches from different data analytical sources state that global carbon foot print is responsible of every citizen.\n",
        "7. Global network transformation can be done only with technological advancements.\n",
        "\n",
        "\n"
      ]
    },
    {
      "cell_type": "markdown",
      "metadata": {
        "id": "X10_2JbvdR5l"
      },
      "source": [
        "## (3) (4 points) Compare the results generated by the two topic modeling algorithms, which one is better? You should explain the reasons in details."
      ]
    },
    {
      "cell_type": "code",
      "metadata": {
        "id": "A3LVYE32dR5n"
      },
      "source": [
        "# Write your answer here (no code needed for this question)\n"
      ],
      "execution_count": null,
      "outputs": []
    },
    {
      "cell_type": "markdown",
      "metadata": {
        "id": "7YLWXh-Pv3F1"
      },
      "source": [
        "**LDA - Latent Dirichlet Allocation:**\n",
        "\n",
        "Latent Dirichlet Allocation (LDA) is a “generative probabilistic model” of a collection of composites made up of parts. Its uses include Natural Language Processing (NLP) and topic modelling, among others. In terms of topic modelling, the composites are documents and the parts are words and/or phrases (phrases n words in length are referred to as n-grams).\n",
        "\n",
        "**LSA - Latent semantic analysis**\n",
        "\n",
        "Latent Semantic Analysis (LSA) is a theory and method for extracting and representing the contextual-usage meaning of words by statistical computations applied to a large corpus of text. LSA is an information retrieval technique which analyzes and identifies the pattern in unstructured collection of text and the relationship between them.\n",
        "LSA itself is an unsupervised way of uncovering synonyms in a collection of documents.\n",
        "\n",
        "From our results, we can interpret that LDA has coherence value of 72.69% while LSA has 36.69%. Higher the coherence, better is the algorithm."
      ]
    },
    {
      "cell_type": "code",
      "metadata": {
        "id": "CjAdHjIEKjQV"
      },
      "source": [
        ""
      ],
      "execution_count": null,
      "outputs": []
    }
  ]
}