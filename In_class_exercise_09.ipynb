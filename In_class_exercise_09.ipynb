{
  "nbformat": 4,
  "nbformat_minor": 0,
  "metadata": {
    "kernelspec": {
      "display_name": "Python 3",
      "language": "python",
      "name": "python3"
    },
    "language_info": {
      "codemirror_mode": {
        "name": "ipython",
        "version": 3
      },
      "file_extension": ".py",
      "mimetype": "text/x-python",
      "name": "python",
      "nbconvert_exporter": "python",
      "pygments_lexer": "ipython3",
      "version": "3.7.4"
    },
    "colab": {
      "name": "In_class_exercise_09.ipynb",
      "provenance": [],
      "toc_visible": true,
      "include_colab_link": true
    }
  },
  "cells": [
    {
      "cell_type": "markdown",
      "metadata": {
        "id": "view-in-github",
        "colab_type": "text"
      },
      "source": [
        "<a href=\"https://colab.research.google.com/github/akhiltabjula/ComputationalMethodsForInformationSystems/blob/master/In_class_exercise_09.ipynb\" target=\"_parent\"><img src=\"https://colab.research.google.com/assets/colab-badge.svg\" alt=\"Open In Colab\"/></a>"
      ]
    },
    {
      "cell_type": "markdown",
      "metadata": {
        "id": "fVdTDuSXhEW_"
      },
      "source": [
        "# **The ninth in-class-exercise (20 points in total, 11/11/2020)**"
      ]
    },
    {
      "cell_type": "markdown",
      "metadata": {
        "id": "8z2k40WhhEXG"
      },
      "source": [
        "The purpose of the exercise is to practice different machine learning algorithms for text classification as well as the performance evaluation. In addition, you are requried to conduct *10 fold cross validation (https://scikit-learn.org/stable/modules/cross_validation.html)* in the training. \n",
        "\n",
        "The dataset can be download from here: https://github.com/unt-iialab/INFO5731_FALL2020/blob/master/In_class_exercise/exercise09_datacollection.zip. The dataset contains two files train data and test data for sentiment analysis in IMDB review, it has two categories: 1 represents positive and 0 represents negative. You need to split the training data into training and validate data (80% for training and 20% for validation, https://towardsdatascience.com/train-test-split-and-cross-validation-in-python-80b61beca4b6) and perform 10 fold cross validation while training the classifier. The final trained model was final evaluated on the test data. \n",
        "\n",
        "Algorithms:\n",
        "\n",
        "(1) MultinominalNB\n",
        "\n",
        "(2) SVM \n",
        "\n",
        "(3) KNN \n",
        "\n",
        "(4) Decision tree\n",
        "\n",
        "(5) Random Forest\n",
        "\n",
        "(6) XGBoost\n",
        "\n",
        "Evaluation measurement:\n",
        "\n",
        "(1) Accuracy\n",
        "\n",
        "(2) Recall\n",
        "\n",
        "(3) Precison \n",
        "\n",
        "(4) F-1 score"
      ]
    },
    {
      "cell_type": "code",
      "metadata": {
        "id": "kV224QyGhEXK"
      },
      "source": [
        "# Write your code here\n",
        "import pandas as pd\n",
        "import numpy as np\n",
        "import sklearn as skl\n",
        "from sklearn.model_selection import train_test_split\n",
        "from sklearn.model_selection import cross_val_score\n",
        "from sklearn.model_selection import KFold\n",
        "from sklearn.neighbors import KNeighborsClassifier\n",
        "from sklearn.metrics import classification_report\n",
        "from sklearn.metrics import accuracy_score\n",
        "from sklearn.naive_bayes import MultinomialNB\n",
        "from sklearn.svm import LinearSVC\n",
        "from sklearn.neighbors import KNeighborsClassifier\n",
        "from sklearn.tree import DecisionTreeClassifier\n",
        "from sklearn.ensemble import RandomForestClassifier\n",
        "from xgboost import XGBClassifier"
      ],
      "execution_count": null,
      "outputs": []
    },
    {
      "cell_type": "code",
      "metadata": {
        "id": "-RrU7aNWlVvv",
        "outputId": "9c5f1e0a-fcf9-4769-dc4c-5e6a1f099acc",
        "colab": {
          "base_uri": "https://localhost:8080/"
        }
      },
      "source": [
        "data_df = pd.read_csv(r'/content/stsa-train.txt',sep = 'delimiter',header= None,names = [\"review\"])"
      ],
      "execution_count": null,
      "outputs": [
        {
          "output_type": "stream",
          "text": [
            "/usr/local/lib/python3.6/dist-packages/ipykernel_launcher.py:1: ParserWarning: Falling back to the 'python' engine because the 'c' engine does not support regex separators (separators > 1 char and different from '\\s+' are interpreted as regex); you can avoid this warning by specifying engine='python'.\n",
            "  \"\"\"Entry point for launching an IPython kernel.\n"
          ],
          "name": "stderr"
        }
      ]
    },
    {
      "cell_type": "code",
      "metadata": {
        "id": "VbIIg8BBlYJK",
        "outputId": "d41264f1-a86c-4bb6-c6f6-6e33162e8ddb",
        "colab": {
          "base_uri": "https://localhost:8080/",
          "height": 106
        }
      },
      "source": [
        "data_df.head(2)"
      ],
      "execution_count": null,
      "outputs": [
        {
          "output_type": "execute_result",
          "data": {
            "text/html": [
              "<div>\n",
              "<style scoped>\n",
              "    .dataframe tbody tr th:only-of-type {\n",
              "        vertical-align: middle;\n",
              "    }\n",
              "\n",
              "    .dataframe tbody tr th {\n",
              "        vertical-align: top;\n",
              "    }\n",
              "\n",
              "    .dataframe thead th {\n",
              "        text-align: right;\n",
              "    }\n",
              "</style>\n",
              "<table border=\"1\" class=\"dataframe\">\n",
              "  <thead>\n",
              "    <tr style=\"text-align: right;\">\n",
              "      <th></th>\n",
              "      <th>review</th>\n",
              "    </tr>\n",
              "  </thead>\n",
              "  <tbody>\n",
              "    <tr>\n",
              "      <th>0</th>\n",
              "      <td>1 a stirring , funny and finally transporting ...</td>\n",
              "    </tr>\n",
              "    <tr>\n",
              "      <th>1</th>\n",
              "      <td>0 apparently reassembled from the cutting-room...</td>\n",
              "    </tr>\n",
              "  </tbody>\n",
              "</table>\n",
              "</div>"
            ],
            "text/plain": [
              "                                              review\n",
              "0  1 a stirring , funny and finally transporting ...\n",
              "1  0 apparently reassembled from the cutting-room..."
            ]
          },
          "metadata": {
            "tags": []
          },
          "execution_count": 4
        }
      ]
    },
    {
      "cell_type": "code",
      "metadata": {
        "id": "s8_njOkmliKP"
      },
      "source": [
        "data_df[['polarity','review']] = data_df[\"review\"].str.split(\" \", 1, expand=True)"
      ],
      "execution_count": 11,
      "outputs": []
    },
    {
      "cell_type": "code",
      "metadata": {
        "id": "4pfGJvIamEcq",
        "outputId": "3f7dd2fd-c250-4872-ea02-ff6b3499e90b",
        "colab": {
          "base_uri": "https://localhost:8080/",
          "height": 106
        }
      },
      "source": [
        "data_df.head(2)"
      ],
      "execution_count": 12,
      "outputs": [
        {
          "output_type": "execute_result",
          "data": {
            "text/html": [
              "<div>\n",
              "<style scoped>\n",
              "    .dataframe tbody tr th:only-of-type {\n",
              "        vertical-align: middle;\n",
              "    }\n",
              "\n",
              "    .dataframe tbody tr th {\n",
              "        vertical-align: top;\n",
              "    }\n",
              "\n",
              "    .dataframe thead th {\n",
              "        text-align: right;\n",
              "    }\n",
              "</style>\n",
              "<table border=\"1\" class=\"dataframe\">\n",
              "  <thead>\n",
              "    <tr style=\"text-align: right;\">\n",
              "      <th></th>\n",
              "      <th>review</th>\n",
              "      <th>polarity</th>\n",
              "    </tr>\n",
              "  </thead>\n",
              "  <tbody>\n",
              "    <tr>\n",
              "      <th>0</th>\n",
              "      <td>no movement , no yuks , not much of anything .</td>\n",
              "      <td>0</td>\n",
              "    </tr>\n",
              "    <tr>\n",
              "      <th>1</th>\n",
              "      <td>a gob of drivel so sickly sweet , even the eag...</td>\n",
              "      <td>0</td>\n",
              "    </tr>\n",
              "  </tbody>\n",
              "</table>\n",
              "</div>"
            ],
            "text/plain": [
              "                                              review polarity\n",
              "0     no movement , no yuks , not much of anything .        0\n",
              "1  a gob of drivel so sickly sweet , even the eag...        0"
            ]
          },
          "metadata": {
            "tags": []
          },
          "execution_count": 12
        }
      ]
    },
    {
      "cell_type": "code",
      "metadata": {
        "id": "LCSUERqdK8-a",
        "outputId": "37e9a574-2292-43a3-c4e6-ba16e1639d44",
        "colab": {
          "base_uri": "https://localhost:8080/"
        }
      },
      "source": [
        "test_df = pd.read_csv(r'/content/stsa-test.txt',sep = 'delimiter',header= None,names = [\"review\"])"
      ],
      "execution_count": 25,
      "outputs": [
        {
          "output_type": "stream",
          "text": [
            "/usr/local/lib/python3.6/dist-packages/ipykernel_launcher.py:1: ParserWarning: Falling back to the 'python' engine because the 'c' engine does not support regex separators (separators > 1 char and different from '\\s+' are interpreted as regex); you can avoid this warning by specifying engine='python'.\n",
            "  \"\"\"Entry point for launching an IPython kernel.\n"
          ],
          "name": "stderr"
        }
      ]
    },
    {
      "cell_type": "code",
      "metadata": {
        "id": "sxsHbOuwLKUh",
        "outputId": "94506694-f1d8-4616-ce22-68a8c64699cd",
        "colab": {
          "base_uri": "https://localhost:8080/",
          "height": 106
        }
      },
      "source": [
        "test_df.head(2)"
      ],
      "execution_count": 26,
      "outputs": [
        {
          "output_type": "execute_result",
          "data": {
            "text/html": [
              "<div>\n",
              "<style scoped>\n",
              "    .dataframe tbody tr th:only-of-type {\n",
              "        vertical-align: middle;\n",
              "    }\n",
              "\n",
              "    .dataframe tbody tr th {\n",
              "        vertical-align: top;\n",
              "    }\n",
              "\n",
              "    .dataframe thead th {\n",
              "        text-align: right;\n",
              "    }\n",
              "</style>\n",
              "<table border=\"1\" class=\"dataframe\">\n",
              "  <thead>\n",
              "    <tr style=\"text-align: right;\">\n",
              "      <th></th>\n",
              "      <th>review</th>\n",
              "    </tr>\n",
              "  </thead>\n",
              "  <tbody>\n",
              "    <tr>\n",
              "      <th>0</th>\n",
              "      <td>0 no movement , no yuks , not much of anything .</td>\n",
              "    </tr>\n",
              "    <tr>\n",
              "      <th>1</th>\n",
              "      <td>0 a gob of drivel so sickly sweet , even the e...</td>\n",
              "    </tr>\n",
              "  </tbody>\n",
              "</table>\n",
              "</div>"
            ],
            "text/plain": [
              "                                              review\n",
              "0   0 no movement , no yuks , not much of anything .\n",
              "1  0 a gob of drivel so sickly sweet , even the e..."
            ]
          },
          "metadata": {
            "tags": []
          },
          "execution_count": 26
        }
      ]
    },
    {
      "cell_type": "code",
      "metadata": {
        "id": "LGQYUWNaLNd7"
      },
      "source": [
        "test_df[['polarity','review']] = test_df[\"review\"].str.split(\" \", 1, expand=True)"
      ],
      "execution_count": 27,
      "outputs": []
    },
    {
      "cell_type": "code",
      "metadata": {
        "id": "e5viF_9MMk01",
        "outputId": "367a1478-49af-4ed9-b66f-137a663c564d",
        "colab": {
          "base_uri": "https://localhost:8080/",
          "height": 106
        }
      },
      "source": [
        "test_df.head(2)"
      ],
      "execution_count": 28,
      "outputs": [
        {
          "output_type": "execute_result",
          "data": {
            "text/html": [
              "<div>\n",
              "<style scoped>\n",
              "    .dataframe tbody tr th:only-of-type {\n",
              "        vertical-align: middle;\n",
              "    }\n",
              "\n",
              "    .dataframe tbody tr th {\n",
              "        vertical-align: top;\n",
              "    }\n",
              "\n",
              "    .dataframe thead th {\n",
              "        text-align: right;\n",
              "    }\n",
              "</style>\n",
              "<table border=\"1\" class=\"dataframe\">\n",
              "  <thead>\n",
              "    <tr style=\"text-align: right;\">\n",
              "      <th></th>\n",
              "      <th>review</th>\n",
              "      <th>polarity</th>\n",
              "    </tr>\n",
              "  </thead>\n",
              "  <tbody>\n",
              "    <tr>\n",
              "      <th>0</th>\n",
              "      <td>no movement , no yuks , not much of anything .</td>\n",
              "      <td>0</td>\n",
              "    </tr>\n",
              "    <tr>\n",
              "      <th>1</th>\n",
              "      <td>a gob of drivel so sickly sweet , even the eag...</td>\n",
              "      <td>0</td>\n",
              "    </tr>\n",
              "  </tbody>\n",
              "</table>\n",
              "</div>"
            ],
            "text/plain": [
              "                                              review polarity\n",
              "0     no movement , no yuks , not much of anything .        0\n",
              "1  a gob of drivel so sickly sweet , even the eag...        0"
            ]
          },
          "metadata": {
            "tags": []
          },
          "execution_count": 28
        }
      ]
    },
    {
      "cell_type": "code",
      "metadata": {
        "id": "cZm7m2abmOhA",
        "outputId": "992d8639-9b45-40ab-c1f2-63c9e91a13e3",
        "colab": {
          "base_uri": "https://localhost:8080/"
        }
      },
      "source": [
        "#data cleaning\n",
        "import nltk\n",
        "nltk.download('stopwords')\n",
        "from nltk.corpus import stopwords\n",
        "from nltk.stem import WordNetLemmatizer\n",
        "wn= WordNetLemmatizer()\n",
        "nltk.download('wordnet')\n",
        "stop_words = set(stopwords.words('english')) \n",
        "import string\n",
        "import re\n"
      ],
      "execution_count": 29,
      "outputs": [
        {
          "output_type": "stream",
          "text": [
            "[nltk_data] Downloading package stopwords to /root/nltk_data...\n",
            "[nltk_data]   Unzipping corpora/stopwords.zip.\n",
            "[nltk_data] Downloading package wordnet to /root/nltk_data...\n",
            "[nltk_data]   Unzipping corpora/wordnet.zip.\n"
          ],
          "name": "stdout"
        }
      ]
    },
    {
      "cell_type": "code",
      "metadata": {
        "id": "Gbj4goH4qWAT"
      },
      "source": [
        "def data_clean(ip):\n",
        "  ip = \" \".join(i.lower() for i in ip.split(\" \") if i not in string.punctuation)\n",
        "  ip = \"\".join(i for i in ip if i.isalnum() or i == \" \")\n",
        "  values = re.split(\"\\W+\",ip)\n",
        "  ip = [wn.lemmatize(i) for i in values if i not in stop_words]\n",
        "  return ip"
      ],
      "execution_count": 31,
      "outputs": []
    },
    {
      "cell_type": "code",
      "metadata": {
        "id": "59ETy9X2nG2T",
        "outputId": "23e96072-bdcb-476b-a1f3-00880e51eee1",
        "colab": {
          "base_uri": "https://localhost:8080/"
        }
      },
      "source": [
        "data_clean(\"hello world $\")"
      ],
      "execution_count": 32,
      "outputs": [
        {
          "output_type": "execute_result",
          "data": {
            "text/plain": [
              "['hello', 'world']"
            ]
          },
          "metadata": {
            "tags": []
          },
          "execution_count": 32
        }
      ]
    },
    {
      "cell_type": "markdown",
      "metadata": {
        "id": "BeKUw-twNExh"
      },
      "source": [
        "**Training Data**"
      ]
    },
    {
      "cell_type": "code",
      "metadata": {
        "id": "v-36YfWqmrVV"
      },
      "source": [
        "from sklearn.feature_extraction.text import TfidfVectorizer\n",
        "tfidfVector = TfidfVectorizer(analyzer=data_clean)\n",
        "tf_idf_vector = tfidfVector.fit_transform(data_df[\"review\"])"
      ],
      "execution_count": 36,
      "outputs": []
    },
    {
      "cell_type": "code",
      "metadata": {
        "id": "TxxPSKu7n3GZ"
      },
      "source": [
        "tf_idf_df = pd.DataFrame(tf_idf_vector.toarray())\n",
        "tf_idf_df.columns = tfidfVector.get_feature_names()"
      ],
      "execution_count": 37,
      "outputs": []
    },
    {
      "cell_type": "markdown",
      "metadata": {
        "id": "lytK5nioNID_"
      },
      "source": [
        "**Testing Data**"
      ]
    },
    {
      "cell_type": "code",
      "metadata": {
        "id": "PBvVFuRONJ6J"
      },
      "source": [
        "\n",
        "tfidfVector1 = TfidfVectorizer(analyzer=data_clean,vocabulary=tfidfVector.vocabulary_)\n",
        "tfidfVector1.fit(test_df[\"review\"])\n",
        "tf_idf_vector_test = tfidfVector1.transform(test_df[\"review\"])"
      ],
      "execution_count": 40,
      "outputs": []
    },
    {
      "cell_type": "code",
      "metadata": {
        "id": "6-ituZo-S0QL"
      },
      "source": [
        "tf_idf_df_test = pd.DataFrame(tf_idf_vector_test.toarray())\n",
        "tf_idf_df_test.columns = tfidfVector1.get_feature_names()"
      ],
      "execution_count": 96,
      "outputs": []
    },
    {
      "cell_type": "markdown",
      "metadata": {
        "id": "RTIHAlo1NpZc"
      },
      "source": [
        "**training and testing data**"
      ]
    },
    {
      "cell_type": "code",
      "metadata": {
        "id": "iXwTwT4joP2x"
      },
      "source": [
        "x_train,x_test,y_train,y_test = train_test_split(tf_idf_df, data_df[\"polarity\"].values,test_size=0.2)"
      ],
      "execution_count": 44,
      "outputs": []
    },
    {
      "cell_type": "markdown",
      "metadata": {
        "id": "MAtO3D98t7Fy"
      },
      "source": [
        "#Multinomial NB"
      ]
    },
    {
      "cell_type": "code",
      "metadata": {
        "id": "ot8i-rD9oqb3"
      },
      "source": [
        "#MultinomialNB\n",
        "\n",
        "multiNB = MultinomialNB()\n",
        "model_multinb = multiNB.fit(x_train,y_train)"
      ],
      "execution_count": 45,
      "outputs": []
    },
    {
      "cell_type": "code",
      "metadata": {
        "id": "WX8gF1kBo-Xh"
      },
      "source": [
        "#prediction for training data\n",
        "multiNB_output = model_multinb.predict(x_test)"
      ],
      "execution_count": 46,
      "outputs": []
    },
    {
      "cell_type": "code",
      "metadata": {
        "id": "cQQcvMYfNzcq"
      },
      "source": [
        "#prediction for testing data\n",
        "multiNB_output_test = model_multinb.predict(tf_idf_vector_test)"
      ],
      "execution_count": 47,
      "outputs": []
    },
    {
      "cell_type": "markdown",
      "metadata": {
        "id": "3g2Eyd7ruzLE"
      },
      "source": [
        "#Result"
      ]
    },
    {
      "cell_type": "markdown",
      "metadata": {
        "id": "JOECyoVFOBn_"
      },
      "source": [
        "**training validation**"
      ]
    },
    {
      "cell_type": "code",
      "metadata": {
        "id": "8377ceE1s4Jn",
        "outputId": "f4f7ca81-d45d-4bc4-ecea-964fa8939138",
        "colab": {
          "base_uri": "https://localhost:8080/"
        }
      },
      "source": [
        "print(\"Accuracy Score :\", accuracy_score(multiNB_output,y_test))"
      ],
      "execution_count": null,
      "outputs": [
        {
          "output_type": "stream",
          "text": [
            "Accuracy Score : 0.7680635838150289\n"
          ],
          "name": "stdout"
        }
      ]
    },
    {
      "cell_type": "code",
      "metadata": {
        "id": "XWlsGszItMYX",
        "outputId": "b9a7ff18-bad1-42dc-a837-c8bb95b1cf8e",
        "colab": {
          "base_uri": "https://localhost:8080/"
        }
      },
      "source": [
        "print(\"Classification result\")\n",
        "print(classification_report(y_test,multiNB_output))"
      ],
      "execution_count": null,
      "outputs": [
        {
          "output_type": "stream",
          "text": [
            "Classification result\n",
            "              precision    recall  f1-score   support\n",
            "\n",
            "           0       0.79      0.69      0.74       658\n",
            "           1       0.75      0.84      0.79       726\n",
            "\n",
            "    accuracy                           0.77      1384\n",
            "   macro avg       0.77      0.76      0.77      1384\n",
            "weighted avg       0.77      0.77      0.77      1384\n",
            "\n"
          ],
          "name": "stdout"
        }
      ]
    },
    {
      "cell_type": "code",
      "metadata": {
        "id": "8twTsZSmtWJe",
        "outputId": "a414c639-7f62-41ba-fff0-df2a92517d49",
        "colab": {
          "base_uri": "https://localhost:8080/"
        }
      },
      "source": [
        "#using kfolds\n",
        "\n",
        "print(\"cross validation score\")\n",
        "cross_val_score(model_multinb,x_test,y_test,cv=KFold(10,random_state = 7, shuffle= True)).mean()"
      ],
      "execution_count": null,
      "outputs": [
        {
          "output_type": "stream",
          "text": [
            "cross validation score\n"
          ],
          "name": "stdout"
        },
        {
          "output_type": "execute_result",
          "data": {
            "text/plain": [
              "0.6943384422896466"
            ]
          },
          "metadata": {
            "tags": []
          },
          "execution_count": 62
        }
      ]
    },
    {
      "cell_type": "markdown",
      "metadata": {
        "id": "j1emmivPOF3w"
      },
      "source": [
        "**testing prediction**"
      ]
    },
    {
      "cell_type": "code",
      "metadata": {
        "id": "8twRH7ZLOIB2",
        "outputId": "6f1795fa-2dbe-4492-b4c7-c3c05972dab0",
        "colab": {
          "base_uri": "https://localhost:8080/"
        }
      },
      "source": [
        "print(\"Accuracy Score :\", accuracy_score(multiNB_output_test,test_df[\"polarity\"]))"
      ],
      "execution_count": 48,
      "outputs": [
        {
          "output_type": "stream",
          "text": [
            "Accuracy Score : 0.9368478857770456\n"
          ],
          "name": "stdout"
        }
      ]
    },
    {
      "cell_type": "code",
      "metadata": {
        "id": "zurEGru0OPDE",
        "outputId": "6fe6c4ba-c576-4823-ce37-4f1c0e8bd3db",
        "colab": {
          "base_uri": "https://localhost:8080/"
        }
      },
      "source": [
        "print(\"Classification result\")\n",
        "print(classification_report(test_df[\"polarity\"],multiNB_output_test))"
      ],
      "execution_count": 49,
      "outputs": [
        {
          "output_type": "stream",
          "text": [
            "Classification result\n",
            "              precision    recall  f1-score   support\n",
            "\n",
            "           0       0.95      0.92      0.94       912\n",
            "           1       0.93      0.95      0.94       909\n",
            "\n",
            "    accuracy                           0.94      1821\n",
            "   macro avg       0.94      0.94      0.94      1821\n",
            "weighted avg       0.94      0.94      0.94      1821\n",
            "\n"
          ],
          "name": "stdout"
        }
      ]
    },
    {
      "cell_type": "code",
      "metadata": {
        "id": "rDJbThSpOVD8",
        "outputId": "98cc9b02-db7e-475c-82cf-d76e883f061a",
        "colab": {
          "base_uri": "https://localhost:8080/"
        }
      },
      "source": [
        "#using kfolds\n",
        "print(\"cross validation score\")\n",
        "cross_val_score(model_multinb,tf_idf_vector_test,test_df[\"polarity\"].values,cv=KFold(10,random_state = 7, shuffle= True)).mean()"
      ],
      "execution_count": 53,
      "outputs": [
        {
          "output_type": "stream",
          "text": [
            "cross validation score\n"
          ],
          "name": "stdout"
        },
        {
          "output_type": "execute_result",
          "data": {
            "text/plain": [
              "0.7325767129045817"
            ]
          },
          "metadata": {
            "tags": []
          },
          "execution_count": 53
        }
      ]
    },
    {
      "cell_type": "markdown",
      "metadata": {
        "id": "Whif7yDKt_Gq"
      },
      "source": [
        "#SVM"
      ]
    },
    {
      "cell_type": "code",
      "metadata": {
        "id": "CZmo7HlvtzXU"
      },
      "source": [
        "#Linear SVC\n",
        "\n",
        "svm = LinearSVC()\n",
        "#train the model\n",
        "\n",
        "svm_model = svm.fit(x_train,y_train)"
      ],
      "execution_count": 55,
      "outputs": []
    },
    {
      "cell_type": "code",
      "metadata": {
        "id": "2JYnV17auJUY"
      },
      "source": [
        "#predict the output\n",
        "svm_output = svm_model.predict(x_test)"
      ],
      "execution_count": 56,
      "outputs": []
    },
    {
      "cell_type": "code",
      "metadata": {
        "id": "EPNVpjw-O1gA"
      },
      "source": [
        "#predict the testing data output\n",
        "svm_output_test = svm_model.predict(tf_idf_vector_test)"
      ],
      "execution_count": 58,
      "outputs": []
    },
    {
      "cell_type": "markdown",
      "metadata": {
        "id": "9uswnsfZuuWA"
      },
      "source": [
        "#Results"
      ]
    },
    {
      "cell_type": "markdown",
      "metadata": {
        "id": "9pWg7e0ZPIKp"
      },
      "source": [
        "**training validation**"
      ]
    },
    {
      "cell_type": "code",
      "metadata": {
        "id": "LD99upG8ufDf",
        "outputId": "f574a141-df40-4038-a0b3-d837eb8c7d10",
        "colab": {
          "base_uri": "https://localhost:8080/"
        }
      },
      "source": [
        "print(\"Accuracy Score :\", accuracy_score(svm_output,y_test))"
      ],
      "execution_count": null,
      "outputs": [
        {
          "output_type": "stream",
          "text": [
            "Accuracy Score : 0.7622832369942196\n"
          ],
          "name": "stdout"
        }
      ]
    },
    {
      "cell_type": "code",
      "metadata": {
        "id": "t-q_PDw9unqa",
        "outputId": "91508477-24d7-4a40-d8d4-e48f8aec6fe6",
        "colab": {
          "base_uri": "https://localhost:8080/"
        }
      },
      "source": [
        "print(\"Classification result\")\n",
        "print(classification_report(y_test,svm_output))"
      ],
      "execution_count": null,
      "outputs": [
        {
          "output_type": "stream",
          "text": [
            "Classification result\n",
            "              precision    recall  f1-score   support\n",
            "\n",
            "           0       0.74      0.76      0.75       658\n",
            "           1       0.78      0.76      0.77       726\n",
            "\n",
            "    accuracy                           0.76      1384\n",
            "   macro avg       0.76      0.76      0.76      1384\n",
            "weighted avg       0.76      0.76      0.76      1384\n",
            "\n"
          ],
          "name": "stdout"
        }
      ]
    },
    {
      "cell_type": "code",
      "metadata": {
        "id": "lB7EJsfsuxm7",
        "outputId": "f8ddef85-58f3-4cc6-b3b2-e0ec4e73b77a",
        "colab": {
          "base_uri": "https://localhost:8080/"
        }
      },
      "source": [
        "#using kfolds\n",
        "print(\"cross validation score\")\n",
        "cross_val_score(svm_model,x_test,y_test,cv=KFold(10,random_state = 7, shuffle= True)).mean()"
      ],
      "execution_count": null,
      "outputs": [
        {
          "output_type": "stream",
          "text": [
            "cross validation score\n"
          ],
          "name": "stdout"
        },
        {
          "output_type": "execute_result",
          "data": {
            "text/plain": [
              "0.7059013658638307"
            ]
          },
          "metadata": {
            "tags": []
          },
          "execution_count": 72
        }
      ]
    },
    {
      "cell_type": "markdown",
      "metadata": {
        "id": "njftVrYMPKry"
      },
      "source": [
        "**testing prediction**"
      ]
    },
    {
      "cell_type": "code",
      "metadata": {
        "id": "hJU0ub91PMlM",
        "outputId": "f49925a2-67a0-41c2-a301-3701f13cd91b",
        "colab": {
          "base_uri": "https://localhost:8080/"
        }
      },
      "source": [
        "print(\"Accuracy Score :\", accuracy_score(svm_output_test,test_df[\"polarity\"].values))"
      ],
      "execution_count": 60,
      "outputs": [
        {
          "output_type": "stream",
          "text": [
            "Accuracy Score : 0.943437671609006\n"
          ],
          "name": "stdout"
        }
      ]
    },
    {
      "cell_type": "code",
      "metadata": {
        "id": "h2heCgckPVl6",
        "outputId": "7292d1cb-ff63-4513-f757-597b4f6cbee2",
        "colab": {
          "base_uri": "https://localhost:8080/"
        }
      },
      "source": [
        "print(\"Classification result\")\n",
        "print(classification_report(test_df[\"polarity\"].values,svm_output_test))"
      ],
      "execution_count": 61,
      "outputs": [
        {
          "output_type": "stream",
          "text": [
            "Classification result\n",
            "              precision    recall  f1-score   support\n",
            "\n",
            "           0       0.95      0.94      0.94       912\n",
            "           1       0.94      0.95      0.94       909\n",
            "\n",
            "    accuracy                           0.94      1821\n",
            "   macro avg       0.94      0.94      0.94      1821\n",
            "weighted avg       0.94      0.94      0.94      1821\n",
            "\n"
          ],
          "name": "stdout"
        }
      ]
    },
    {
      "cell_type": "code",
      "metadata": {
        "id": "YRqM_FBcPfdq",
        "outputId": "6ad88b3b-25e4-4b73-ea0b-8bce218c2e6e",
        "colab": {
          "base_uri": "https://localhost:8080/"
        }
      },
      "source": [
        "#using kfolds\n",
        "print(\"cross validation score\")\n",
        "cross_val_score(svm_model,tf_idf_vector_test,test_df[\"polarity\"].values,cv=KFold(10,random_state = 7, shuffle= True)).mean()"
      ],
      "execution_count": 62,
      "outputs": [
        {
          "output_type": "stream",
          "text": [
            "cross validation score\n"
          ],
          "name": "stdout"
        },
        {
          "output_type": "execute_result",
          "data": {
            "text/plain": [
              "0.7205008106647451"
            ]
          },
          "metadata": {
            "tags": []
          },
          "execution_count": 62
        }
      ]
    },
    {
      "cell_type": "markdown",
      "metadata": {
        "id": "0wirGAFcu6tg"
      },
      "source": [
        "#KNN "
      ]
    },
    {
      "cell_type": "code",
      "metadata": {
        "id": "Y4qN482pu5WD"
      },
      "source": [
        "knn = KNeighborsClassifier(algorithm='brute')"
      ],
      "execution_count": 69,
      "outputs": []
    },
    {
      "cell_type": "code",
      "metadata": {
        "id": "HBJGd7MxvDGh"
      },
      "source": [
        "#train the model\n",
        "knn_model = knn.fit(x_train,y_train)"
      ],
      "execution_count": 70,
      "outputs": []
    },
    {
      "cell_type": "code",
      "metadata": {
        "id": "XkcbVE8vvLVJ"
      },
      "source": [
        "#predict the output\n",
        "knn_output = knn_model.predict(x_test)"
      ],
      "execution_count": 71,
      "outputs": []
    },
    {
      "cell_type": "code",
      "metadata": {
        "id": "FdzE-AzUPrZ0"
      },
      "source": [
        "#predict the testing output\n",
        "knn_output_test = knn_model.predict(tf_idf_vector_test)"
      ],
      "execution_count": 72,
      "outputs": []
    },
    {
      "cell_type": "markdown",
      "metadata": {
        "id": "hkmQL2e0veOi"
      },
      "source": [
        "#Result"
      ]
    },
    {
      "cell_type": "markdown",
      "metadata": {
        "id": "C1UNv2eHQCKT"
      },
      "source": [
        "**training validation**"
      ]
    },
    {
      "cell_type": "code",
      "metadata": {
        "id": "4lMSkGBnvZgU",
        "outputId": "7ab0cc1c-d009-45a1-b699-26ba82544eed",
        "colab": {
          "base_uri": "https://localhost:8080/"
        }
      },
      "source": [
        "print(\"Accuracy Score :\", accuracy_score(knn_output,y_test))"
      ],
      "execution_count": null,
      "outputs": [
        {
          "output_type": "stream",
          "text": [
            "Accuracy Score : 0.48265895953757226\n"
          ],
          "name": "stdout"
        }
      ]
    },
    {
      "cell_type": "code",
      "metadata": {
        "id": "Vz8CP5G-vjzI",
        "outputId": "7d738d1a-98d9-4c1e-a545-6db2f4dd9244",
        "colab": {
          "base_uri": "https://localhost:8080/"
        }
      },
      "source": [
        "print(\"Classification result\")\n",
        "print(classification_report(y_test,knn_output))"
      ],
      "execution_count": null,
      "outputs": [
        {
          "output_type": "stream",
          "text": [
            "Classification result\n",
            "              precision    recall  f1-score   support\n",
            "\n",
            "           0       0.48      0.99      0.65       658\n",
            "           1       0.78      0.02      0.04       726\n",
            "\n",
            "    accuracy                           0.48      1384\n",
            "   macro avg       0.63      0.51      0.34      1384\n",
            "weighted avg       0.64      0.48      0.33      1384\n",
            "\n"
          ],
          "name": "stdout"
        }
      ]
    },
    {
      "cell_type": "code",
      "metadata": {
        "id": "-N2GxguSvq0o",
        "outputId": "4459d52b-1433-44ce-f167-f1c15cfc2e03",
        "colab": {
          "base_uri": "https://localhost:8080/"
        }
      },
      "source": [
        "#using kfolds\n",
        "print(\"cross validation score\")\n",
        "cross_val_score(knn_model,x_test,y_test,cv=KFold(10,random_state = 7, shuffle= True)).mean()"
      ],
      "execution_count": null,
      "outputs": [
        {
          "output_type": "stream",
          "text": [
            "cross validation score\n"
          ],
          "name": "stdout"
        },
        {
          "output_type": "execute_result",
          "data": {
            "text/plain": [
              "0.6712543009071005"
            ]
          },
          "metadata": {
            "tags": []
          },
          "execution_count": 82
        }
      ]
    },
    {
      "cell_type": "markdown",
      "metadata": {
        "id": "hRDKu--NQEcj"
      },
      "source": [
        "**testing prediction**"
      ]
    },
    {
      "cell_type": "code",
      "metadata": {
        "id": "p03STSPvQGoJ",
        "outputId": "8f80a447-a3dc-4d33-b441-c05c9e1d97eb",
        "colab": {
          "base_uri": "https://localhost:8080/"
        }
      },
      "source": [
        "print(\"Accuracy Score :\", accuracy_score(knn_output_test,test_df[\"polarity\"].values))"
      ],
      "execution_count": 73,
      "outputs": [
        {
          "output_type": "stream",
          "text": [
            "Accuracy Score : 0.6919275123558485\n"
          ],
          "name": "stdout"
        }
      ]
    },
    {
      "cell_type": "code",
      "metadata": {
        "id": "h6pvz4smQL0F",
        "outputId": "ff68b844-95f9-4f7d-925d-08c796d6688e",
        "colab": {
          "base_uri": "https://localhost:8080/"
        }
      },
      "source": [
        "print(\"Classification result\")\n",
        "print(classification_report(test_df[\"polarity\"].values,knn_output_test))"
      ],
      "execution_count": 74,
      "outputs": [
        {
          "output_type": "stream",
          "text": [
            "Classification result\n",
            "              precision    recall  f1-score   support\n",
            "\n",
            "           0       0.62      0.97      0.76       912\n",
            "           1       0.94      0.41      0.57       909\n",
            "\n",
            "    accuracy                           0.69      1821\n",
            "   macro avg       0.78      0.69      0.66      1821\n",
            "weighted avg       0.78      0.69      0.66      1821\n",
            "\n"
          ],
          "name": "stdout"
        }
      ]
    },
    {
      "cell_type": "code",
      "metadata": {
        "id": "fpiF6wa_QRwk",
        "outputId": "195da10b-6233-48a8-fa43-1a82f7df8269",
        "colab": {
          "base_uri": "https://localhost:8080/"
        }
      },
      "source": [
        "#using kfolds\n",
        "print(\"cross validation score\")\n",
        "cross_val_score(knn_model,tf_idf_vector_test,test_df[\"polarity\"].values,cv=KFold(10,random_state = 7, shuffle= True)).mean()"
      ],
      "execution_count": 76,
      "outputs": [
        {
          "output_type": "stream",
          "text": [
            "cross validation score\n"
          ],
          "name": "stdout"
        },
        {
          "output_type": "execute_result",
          "data": {
            "text/plain": [
              "0.6123070918152885"
            ]
          },
          "metadata": {
            "tags": []
          },
          "execution_count": 76
        }
      ]
    },
    {
      "cell_type": "markdown",
      "metadata": {
        "id": "t6dYoG6Ev11p"
      },
      "source": [
        "#Decision Tree"
      ]
    },
    {
      "cell_type": "code",
      "metadata": {
        "id": "aSJEdzeUv6xd"
      },
      "source": [
        "dtc = DecisionTreeClassifier()"
      ],
      "execution_count": 77,
      "outputs": []
    },
    {
      "cell_type": "code",
      "metadata": {
        "id": "WXEzZXFrwIRc"
      },
      "source": [
        "#fit the model \n",
        "dtc_model = dtc.fit(x_train,y_train)"
      ],
      "execution_count": 78,
      "outputs": []
    },
    {
      "cell_type": "code",
      "metadata": {
        "id": "3Q3aG2aRwSBP"
      },
      "source": [
        "#predict the model\n",
        "dtc_output = dtc_model.predict(x_test)"
      ],
      "execution_count": null,
      "outputs": []
    },
    {
      "cell_type": "code",
      "metadata": {
        "id": "tw7RKVfxQyJZ"
      },
      "source": [
        "#predict the test data\n",
        "dtc_output_test = dtc_model.predict(tf_idf_vector_test)"
      ],
      "execution_count": 79,
      "outputs": []
    },
    {
      "cell_type": "markdown",
      "metadata": {
        "id": "d1V3VxI_wbD2"
      },
      "source": [
        "#Results"
      ]
    },
    {
      "cell_type": "markdown",
      "metadata": {
        "id": "feclqebFQ7mn"
      },
      "source": [
        "**Training Validation**"
      ]
    },
    {
      "cell_type": "code",
      "metadata": {
        "id": "N5iiKjDgwcvM",
        "outputId": "1dadc783-51c9-4eb0-c8f8-a96873d2302c",
        "colab": {
          "base_uri": "https://localhost:8080/"
        }
      },
      "source": [
        "print(\"Accuracy Score :\", accuracy_score(dtc_output,y_test))"
      ],
      "execution_count": null,
      "outputs": [
        {
          "output_type": "stream",
          "text": [
            "Accuracy Score : 0.6510115606936416\n"
          ],
          "name": "stdout"
        }
      ]
    },
    {
      "cell_type": "code",
      "metadata": {
        "id": "WqqxOJC5wjDN",
        "outputId": "88590fba-ad71-4bcc-8705-570b9c89b8a1",
        "colab": {
          "base_uri": "https://localhost:8080/"
        }
      },
      "source": [
        "print(\"Classification result\")\n",
        "print(classification_report(y_test,dtc_output))"
      ],
      "execution_count": null,
      "outputs": [
        {
          "output_type": "stream",
          "text": [
            "Classification result\n",
            "              precision    recall  f1-score   support\n",
            "\n",
            "           0       0.62      0.68      0.65       658\n",
            "           1       0.68      0.62      0.65       726\n",
            "\n",
            "    accuracy                           0.65      1384\n",
            "   macro avg       0.65      0.65      0.65      1384\n",
            "weighted avg       0.65      0.65      0.65      1384\n",
            "\n"
          ],
          "name": "stdout"
        }
      ]
    },
    {
      "cell_type": "code",
      "metadata": {
        "id": "P4GOFCMUwlCV",
        "outputId": "8b724279-830c-46e1-b818-fd770df3eb51",
        "colab": {
          "base_uri": "https://localhost:8080/"
        }
      },
      "source": [
        "#using kfolds\n",
        "\n",
        "print(\"cross validation score\")\n",
        "cross_val_score(dtc_model,x_test,y_test,cv=KFold(10,random_state = 7, shuffle= True)).mean()"
      ],
      "execution_count": null,
      "outputs": [
        {
          "output_type": "stream",
          "text": [
            "cross validation score\n"
          ],
          "name": "stdout"
        },
        {
          "output_type": "execute_result",
          "data": {
            "text/plain": [
              "0.6076582212490876"
            ]
          },
          "metadata": {
            "tags": []
          },
          "execution_count": 90
        }
      ]
    },
    {
      "cell_type": "markdown",
      "metadata": {
        "id": "K3_Q2vJYQ-bH"
      },
      "source": [
        "**Testing Validation**"
      ]
    },
    {
      "cell_type": "code",
      "metadata": {
        "id": "AChU4fSDRB7f",
        "outputId": "30342164-77e1-4897-97c3-f06b25bd06c6",
        "colab": {
          "base_uri": "https://localhost:8080/"
        }
      },
      "source": [
        "print(\"Accuracy Score :\", accuracy_score(dtc_output_test,test_df[\"polarity\"].values))"
      ],
      "execution_count": 80,
      "outputs": [
        {
          "output_type": "stream",
          "text": [
            "Accuracy Score : 0.9302580999450851\n"
          ],
          "name": "stdout"
        }
      ]
    },
    {
      "cell_type": "code",
      "metadata": {
        "id": "r6KNyIHWRJ8G",
        "outputId": "5a91a31e-a778-4373-875b-f36ca6a91bb5",
        "colab": {
          "base_uri": "https://localhost:8080/"
        }
      },
      "source": [
        "print(\"Classification result\")\n",
        "print(classification_report(test_df[\"polarity\"].values,dtc_output_test))"
      ],
      "execution_count": 81,
      "outputs": [
        {
          "output_type": "stream",
          "text": [
            "Classification result\n",
            "              precision    recall  f1-score   support\n",
            "\n",
            "           0       0.92      0.94      0.93       912\n",
            "           1       0.94      0.92      0.93       909\n",
            "\n",
            "    accuracy                           0.93      1821\n",
            "   macro avg       0.93      0.93      0.93      1821\n",
            "weighted avg       0.93      0.93      0.93      1821\n",
            "\n"
          ],
          "name": "stdout"
        }
      ]
    },
    {
      "cell_type": "code",
      "metadata": {
        "id": "-eH2imEdROU9",
        "outputId": "52b969c4-da77-4518-dadd-9ad82938c7bf",
        "colab": {
          "base_uri": "https://localhost:8080/"
        }
      },
      "source": [
        "#using kfolds\n",
        "\n",
        "print(\"cross validation score\")\n",
        "cross_val_score(dtc_model,tf_idf_vector_test,test_df[\"polarity\"].values,cv=KFold(10,random_state = 7, shuffle= True)).mean()"
      ],
      "execution_count": 82,
      "outputs": [
        {
          "output_type": "stream",
          "text": [
            "cross validation score\n"
          ],
          "name": "stdout"
        },
        {
          "output_type": "execute_result",
          "data": {
            "text/plain": [
              "0.6320572869753198"
            ]
          },
          "metadata": {
            "tags": []
          },
          "execution_count": 82
        }
      ]
    },
    {
      "cell_type": "markdown",
      "metadata": {
        "id": "z8PYUj-kwsIS"
      },
      "source": [
        "#Random Forest"
      ]
    },
    {
      "cell_type": "code",
      "metadata": {
        "id": "05nEvtJ9wv7o"
      },
      "source": [
        "rf = RandomForestClassifier()"
      ],
      "execution_count": 83,
      "outputs": []
    },
    {
      "cell_type": "code",
      "metadata": {
        "id": "bveGXzyXxAXg"
      },
      "source": [
        "#train the model\n",
        "rf_model = rf.fit(x_train,y_train)"
      ],
      "execution_count": 84,
      "outputs": []
    },
    {
      "cell_type": "code",
      "metadata": {
        "id": "i7eSC80nxI6R"
      },
      "source": [
        "#predict the ouput\n",
        "rf_output = rf.predict(x_test)"
      ],
      "execution_count": null,
      "outputs": []
    },
    {
      "cell_type": "code",
      "metadata": {
        "id": "r1c5_jAPRf-c"
      },
      "source": [
        "#predict the test data\n",
        "rf_output_test = rf.predict(tf_idf_vector_test)"
      ],
      "execution_count": 85,
      "outputs": []
    },
    {
      "cell_type": "markdown",
      "metadata": {
        "id": "oy9c9KUfxXIU"
      },
      "source": [
        "#Results"
      ]
    },
    {
      "cell_type": "markdown",
      "metadata": {
        "id": "g433OkZdRoMn"
      },
      "source": [
        "**Training validation**"
      ]
    },
    {
      "cell_type": "code",
      "metadata": {
        "id": "qv39wT43xWCf",
        "outputId": "f55caaf6-c12c-403c-9203-29d24b65a764",
        "colab": {
          "base_uri": "https://localhost:8080/"
        }
      },
      "source": [
        "print(\"Accuracy Score :\", accuracy_score(rf_output,y_test))"
      ],
      "execution_count": null,
      "outputs": [
        {
          "output_type": "stream",
          "text": [
            "Accuracy Score : 0.7276011560693642\n"
          ],
          "name": "stdout"
        }
      ]
    },
    {
      "cell_type": "code",
      "metadata": {
        "id": "EYLkoPu_xr1I",
        "outputId": "449f3ca9-1476-40ab-b02b-6391bbc6becc",
        "colab": {
          "base_uri": "https://localhost:8080/"
        }
      },
      "source": [
        "print(\"Classification result\")\n",
        "print(classification_report(y_test,rf_output))"
      ],
      "execution_count": null,
      "outputs": [
        {
          "output_type": "stream",
          "text": [
            "Classification result\n",
            "              precision    recall  f1-score   support\n",
            "\n",
            "           0       0.70      0.76      0.73       658\n",
            "           1       0.76      0.70      0.73       726\n",
            "\n",
            "    accuracy                           0.73      1384\n",
            "   macro avg       0.73      0.73      0.73      1384\n",
            "weighted avg       0.73      0.73      0.73      1384\n",
            "\n"
          ],
          "name": "stdout"
        }
      ]
    },
    {
      "cell_type": "code",
      "metadata": {
        "id": "2UV6MTTsxvSl",
        "outputId": "b329e55e-4837-4168-d6d6-6d90d7cf4394",
        "colab": {
          "base_uri": "https://localhost:8080/"
        }
      },
      "source": [
        "#using kfolds\n",
        "\n",
        "print(\"cross validation score\")\n",
        "cross_val_score(rf_model,x_test,y_test,cv=KFold(10,random_state = 7, shuffle= True)).mean()"
      ],
      "execution_count": null,
      "outputs": [
        {
          "output_type": "stream",
          "text": [
            "cross validation score\n"
          ],
          "name": "stdout"
        },
        {
          "output_type": "execute_result",
          "data": {
            "text/plain": [
              "0.6640131373162339"
            ]
          },
          "metadata": {
            "tags": []
          },
          "execution_count": 104
        }
      ]
    },
    {
      "cell_type": "markdown",
      "metadata": {
        "id": "UJdNf_neRtRq"
      },
      "source": [
        "**Testing Prediction**"
      ]
    },
    {
      "cell_type": "code",
      "metadata": {
        "id": "jOuqY9VuRlV9",
        "outputId": "531b8879-b674-4713-adc7-12ba07fbb1c6",
        "colab": {
          "base_uri": "https://localhost:8080/"
        }
      },
      "source": [
        "print(\"Accuracy Score :\", accuracy_score(rf_output_test,test_df[\"polarity\"].values))"
      ],
      "execution_count": 86,
      "outputs": [
        {
          "output_type": "stream",
          "text": [
            "Accuracy Score : 0.9362987369577156\n"
          ],
          "name": "stdout"
        }
      ]
    },
    {
      "cell_type": "code",
      "metadata": {
        "id": "7eKD910xR2qY",
        "outputId": "6ebb2cd0-c1ae-4013-f286-68d9135e71da",
        "colab": {
          "base_uri": "https://localhost:8080/"
        }
      },
      "source": [
        "print(\"Classification result\")\n",
        "print(classification_report(test_df[\"polarity\"].values,rf_output_test))"
      ],
      "execution_count": 87,
      "outputs": [
        {
          "output_type": "stream",
          "text": [
            "Classification result\n",
            "              precision    recall  f1-score   support\n",
            "\n",
            "           0       0.91      0.96      0.94       912\n",
            "           1       0.96      0.91      0.93       909\n",
            "\n",
            "    accuracy                           0.94      1821\n",
            "   macro avg       0.94      0.94      0.94      1821\n",
            "weighted avg       0.94      0.94      0.94      1821\n",
            "\n"
          ],
          "name": "stdout"
        }
      ]
    },
    {
      "cell_type": "code",
      "metadata": {
        "id": "xvpFEppxSBSI",
        "outputId": "53439448-b28e-480b-cdd7-228023998f3a",
        "colab": {
          "base_uri": "https://localhost:8080/"
        }
      },
      "source": [
        "#using kfolds\n",
        "\n",
        "print(\"cross validation score\")\n",
        "cross_val_score(rf_model,tf_idf_vector_test,rf_output_test,cv=KFold(10,random_state = 7, shuffle= True)).mean()"
      ],
      "execution_count": 88,
      "outputs": [
        {
          "output_type": "stream",
          "text": [
            "cross validation score\n"
          ],
          "name": "stdout"
        },
        {
          "output_type": "execute_result",
          "data": {
            "text/plain": [
              "0.6918963550111091"
            ]
          },
          "metadata": {
            "tags": []
          },
          "execution_count": 88
        }
      ]
    },
    {
      "cell_type": "markdown",
      "metadata": {
        "id": "OPGSjhYox309"
      },
      "source": [
        "#XGBoost"
      ]
    },
    {
      "cell_type": "code",
      "metadata": {
        "id": "8ptdh8gzx8qM"
      },
      "source": [
        "xgb = XGBClassifier()"
      ],
      "execution_count": 89,
      "outputs": []
    },
    {
      "cell_type": "code",
      "metadata": {
        "id": "FTjE_5sZyG1u"
      },
      "source": [
        "#train the model\n",
        "xgb_model = xgb.fit(x_train,y_train)"
      ],
      "execution_count": 92,
      "outputs": []
    },
    {
      "cell_type": "code",
      "metadata": {
        "id": "8dI3O5W2yP58"
      },
      "source": [
        "#predict the model\n",
        "xgb_output = xgb.predict(x_test)"
      ],
      "execution_count": 91,
      "outputs": []
    },
    {
      "cell_type": "code",
      "metadata": {
        "id": "hdi7ZIAuShgm"
      },
      "source": [
        "#predict the testing data\n",
        "xgb_output_test = xgb.predict(tf_idf_df_test)"
      ],
      "execution_count": 97,
      "outputs": []
    },
    {
      "cell_type": "markdown",
      "metadata": {
        "id": "Xi9TgRW2ygQ-"
      },
      "source": [
        "#Results"
      ]
    },
    {
      "cell_type": "markdown",
      "metadata": {
        "id": "_DE2ZX-UTMv5"
      },
      "source": [
        "**Training Validation**"
      ]
    },
    {
      "cell_type": "code",
      "metadata": {
        "id": "iZhJ4a1oyblT",
        "outputId": "5bfef853-8c14-48a9-bf46-0fb04237d685",
        "colab": {
          "base_uri": "https://localhost:8080/"
        }
      },
      "source": [
        "print(\"Accuracy Score :\", accuracy_score(xgb_output,y_test))"
      ],
      "execution_count": null,
      "outputs": [
        {
          "output_type": "stream",
          "text": [
            "Accuracy Score : 0.6495664739884393\n"
          ],
          "name": "stdout"
        }
      ]
    },
    {
      "cell_type": "code",
      "metadata": {
        "id": "grfx2HvLyfk0",
        "outputId": "44cbdfd2-ab8d-42ee-8bf3-1d8f971018f6",
        "colab": {
          "base_uri": "https://localhost:8080/"
        }
      },
      "source": [
        "print(\"Classification result\")\n",
        "print(classification_report(y_test,xgb_output))"
      ],
      "execution_count": null,
      "outputs": [
        {
          "output_type": "stream",
          "text": [
            "Classification result\n",
            "              precision    recall  f1-score   support\n",
            "\n",
            "           0       0.73      0.42      0.53       658\n",
            "           1       0.62      0.86      0.72       726\n",
            "\n",
            "    accuracy                           0.65      1384\n",
            "   macro avg       0.67      0.64      0.63      1384\n",
            "weighted avg       0.67      0.65      0.63      1384\n",
            "\n"
          ],
          "name": "stdout"
        }
      ]
    },
    {
      "cell_type": "code",
      "metadata": {
        "id": "c45bO7B-yo9U",
        "outputId": "768e5d64-8c2a-44c1-c325-b0465e6abbba",
        "colab": {
          "base_uri": "https://localhost:8080/"
        }
      },
      "source": [
        "#using kfolds\n",
        "print(\"cross validation score\")\n",
        "cross_val_score(xgb_model,x_test,y_test,cv=KFold(10,random_state = 7, shuffle= True)).mean()"
      ],
      "execution_count": 101,
      "outputs": [
        {
          "output_type": "stream",
          "text": [
            "cross validation score\n"
          ],
          "name": "stdout"
        },
        {
          "output_type": "execute_result",
          "data": {
            "text/plain": [
              "0.574924924924925"
            ]
          },
          "metadata": {
            "tags": []
          },
          "execution_count": 101
        }
      ]
    },
    {
      "cell_type": "markdown",
      "metadata": {
        "id": "2EAe9_6PTQTe"
      },
      "source": [
        "**Testing Prediction**"
      ]
    },
    {
      "cell_type": "code",
      "metadata": {
        "id": "QHxfF4RPTPgD",
        "outputId": "fddbd6d7-b30d-4402-c341-f08cceedce65",
        "colab": {
          "base_uri": "https://localhost:8080/"
        }
      },
      "source": [
        "print(\"Accuracy Score :\", accuracy_score(xgb_output_test,test_df[\"polarity\"].values))"
      ],
      "execution_count": 99,
      "outputs": [
        {
          "output_type": "stream",
          "text": [
            "Accuracy Score : 0.7084019769357496\n"
          ],
          "name": "stdout"
        }
      ]
    },
    {
      "cell_type": "code",
      "metadata": {
        "id": "C2Ckg2SpTZRu",
        "outputId": "7f64a8ed-353b-4f03-cdc2-5cd4f14d30d3",
        "colab": {
          "base_uri": "https://localhost:8080/"
        }
      },
      "source": [
        "print(\"Classification result\")\n",
        "print(classification_report(test_df[\"polarity\"].values,xgb_output_test))"
      ],
      "execution_count": 100,
      "outputs": [
        {
          "output_type": "stream",
          "text": [
            "Classification result\n",
            "              precision    recall  f1-score   support\n",
            "\n",
            "           0       0.80      0.56      0.66       912\n",
            "           1       0.66      0.86      0.75       909\n",
            "\n",
            "    accuracy                           0.71      1821\n",
            "   macro avg       0.73      0.71      0.70      1821\n",
            "weighted avg       0.73      0.71      0.70      1821\n",
            "\n"
          ],
          "name": "stdout"
        }
      ]
    },
    {
      "cell_type": "code",
      "metadata": {
        "id": "TXbDsdfFTosT",
        "outputId": "05a893c5-e73a-479a-bcfb-e15bb5510678",
        "colab": {
          "base_uri": "https://localhost:8080/"
        }
      },
      "source": [
        "#using kfolds\n",
        "print(\"cross validation score\")\n",
        "cross_val_score(xgb_model,tf_idf_vector_test,xgb_output_test,cv=KFold(10,random_state = 7, shuffle= True)).mean()"
      ],
      "execution_count": 102,
      "outputs": [
        {
          "output_type": "stream",
          "text": [
            "cross validation score\n"
          ],
          "name": "stdout"
        },
        {
          "output_type": "execute_result",
          "data": {
            "text/plain": [
              "0.8577913889389299"
            ]
          },
          "metadata": {
            "tags": []
          },
          "execution_count": 102
        }
      ]
    },
    {
      "cell_type": "markdown",
      "metadata": {
        "id": "tReUBmSkzeHC"
      },
      "source": [
        "**Summary of accuracy comparision**\n",
        "\n",
        "1. MultinomialNB : 0.7680635838150289\n",
        "2. SVM : 0.7622832369942196\n",
        "3. KNN : 0.48265895953757226\n",
        "4. Decision Tree : 0.6510115606936416\n",
        "5. Random Forest : 0.7276011560693642\n",
        "6. XGBoost : 0.6495664739884393"
      ]
    }
  ]
}