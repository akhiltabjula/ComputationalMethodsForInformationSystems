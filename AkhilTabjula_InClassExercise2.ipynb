{
  "nbformat": 4,
  "nbformat_minor": 0,
  "metadata": {
    "colab": {
      "name": "AkhilTabjula_InClassExercise2.ipynb",
      "provenance": [],
      "collapsed_sections": []
    },
    "kernelspec": {
      "display_name": "Python 3",
      "language": "python",
      "name": "python3"
    },
    "language_info": {
      "codemirror_mode": {
        "name": "ipython",
        "version": 3
      },
      "file_extension": ".py",
      "mimetype": "text/x-python",
      "name": "python",
      "nbconvert_exporter": "python",
      "pygments_lexer": "ipython3",
      "version": "3.7.4"
    }
  },
  "cells": [
    {
      "cell_type": "markdown",
      "metadata": {
        "colab_type": "text",
        "id": "view-in-github"
      },
      "source": [
        "<a href=\"https://colab.research.google.com/github/unt-iialab/INFO5731_Spring2020/blob/master/In_class_exercise/In_class_exercise_02.ipynb\" target=\"_parent\"><img src=\"https://colab.research.google.com/assets/colab-badge.svg\" alt=\"Open In Colab\"/></a>"
      ]
    },
    {
      "cell_type": "markdown",
      "metadata": {
        "colab_type": "text",
        "id": "oo5bsEh2eeWi"
      },
      "source": [
        "# **The second In-class-exercise (9/9/2020, 20 points in total)**\n"
      ]
    },
    {
      "cell_type": "markdown",
      "metadata": {
        "colab_type": "text",
        "id": "2sPQ58dIeqgp"
      },
      "source": [
        "(1) Write a Python program to find the duplicate elements in a given array of integers. Return -1 If there are no such elements. (4 points)"
      ]
    },
    {
      "cell_type": "code",
      "metadata": {
        "colab_type": "code",
        "id": "mnrvKMFTeoJR",
        "colab": {
          "base_uri": "https://localhost:8080/",
          "height": 69
        },
        "outputId": "1ca392fd-9e51-484f-fb6f-3986fc865c6f"
      },
      "source": [
        "# write your answer here\n",
        "\n",
        "def duplicates(a):\n",
        "  flag = True\n",
        "  res = []\n",
        "  values = set(a)\n",
        "  for i in values:\n",
        "    val = a.count(i)\n",
        "    if(val>1):\n",
        "      flag = False\n",
        "      res.append(i)\n",
        "  if(flag):\n",
        "    return -1\n",
        "  else:\n",
        "    return res\n",
        "\n",
        "def result_projection(a):\n",
        "  if(a==-1):\n",
        "    print(\"-1\")\n",
        "  else:\n",
        "    print(\"Duplicate elements \",a)\n",
        "\n",
        "\n",
        "\n",
        "result = duplicates([1,2,3,4,5,7,7])\n",
        "result_projection(result)\n",
        "\n",
        "result = duplicates([1,2,3,4,5,7,7,4,4,3])\n",
        "result_projection(result)\n",
        "\n",
        "\n",
        "result = duplicates([1,2,3,4])\n",
        "result_projection(result)\n"
      ],
      "execution_count": null,
      "outputs": [
        {
          "output_type": "stream",
          "text": [
            "Duplicate elements  [7]\n",
            "Duplicate elements  [3, 4, 7]\n",
            "-1\n"
          ],
          "name": "stdout"
        }
      ]
    },
    {
      "cell_type": "markdown",
      "metadata": {
        "colab_type": "text",
        "id": "YYrH6n6IhZoQ"
      },
      "source": [
        "(2) Write a Python program to select all the Sundays of a specified year. (4 points)\n",
        "\n"
      ]
    },
    {
      "cell_type": "code",
      "metadata": {
        "colab_type": "code",
        "id": "OSfPLd23eLpX",
        "colab": {}
      },
      "source": [
        "# write your answer here\n",
        "import calendar as cl\n",
        "from datetime import date \n",
        "\n",
        "Year=2019\n",
        "_sunday=cl.TextCalendar(cl.SUNDAY)\n",
        "\n",
        "for _month in range(1,13):\n",
        "    for _day in _sunday.itermonthdays(Year,_month):\n",
        "        if _day!=0:\n",
        "            day=date(Year,_month,_day)\n",
        "            if day.weekday()==6:\n",
        "                print(\"%s,%d-%d-%d\" % (cl.day_name[6] ,_day,_month,Year))"
      ],
      "execution_count": null,
      "outputs": []
    },
    {
      "cell_type": "markdown",
      "metadata": {
        "colab_type": "text",
        "id": "UIpziZ6Sjie-"
      },
      "source": [
        "(3) Python files reading and writing. Download the “[exercise_02_data _collection.zip](https://github.com/unt-iialab/INFO5731_FALL2020/blob/master/In_class_exercise/exercise_02_data_collection.zip)” to your local and un-zip it.\n",
        "\n",
        "*   Write a program to read all the txt files and save the sentences in all the files into one csv file with two columns, the first column is sentence id (txt file name+sentence line number), the second column is the sentence text content. (4 points)\n",
        "*   Remove all the punctuations from the sentences, save the processed sentences into a new column in the same csv file. (4 points)\n",
        "*   Ask the user to enter a word, return all the sentences that include this word, three kinds of information should be returned: sentence id, sentence text content, the count that user input word appear in the sentence. (4 points)\n",
        "\n"
      ]
    },
    {
      "cell_type": "code",
      "metadata": {
        "id": "gR_KW_7o6TPj",
        "colab_type": "code",
        "colab": {
          "base_uri": "https://localhost:8080/",
          "height": 35
        },
        "outputId": "67338f82-5e66-4ecc-d322-74a77453020b"
      },
      "source": [
        "import glob\n",
        "from zipfile import ZipFile\n",
        "zip_file = \"/content/exercise_02_data_collection.zip\"\n",
        "\n",
        "#unxipping folder.\n",
        "with ZipFile(zip_file, 'r') as zip:\n",
        "  zip.extractall()\n",
        "  print('Done')"
      ],
      "execution_count": null,
      "outputs": [
        {
          "output_type": "stream",
          "text": [
            "Done\n"
          ],
          "name": "stdout"
        }
      ]
    },
    {
      "cell_type": "code",
      "metadata": {
        "colab_type": "code",
        "id": "f3CUsrWOj1Xy",
        "colab": {}
      },
      "source": [
        "# write your answer here\n",
        "import glob\n",
        "'''Write a program to read all the txt files and save the sentences in all the files into one csv \n",
        "file with two columns, the first column is sentence id (txt file name+sentence line number), the second \n",
        "column is the sentence text content'''\n",
        "\n",
        "import os\n",
        "  \n",
        "#Reading all .txt files from unzipped folder.\n",
        "file_path = '/content/exercise_02_data_collection/*.txt'   \n",
        "files=glob.glob(file_path)\n",
        "\n",
        "\n",
        "#replacing .txt extension in read file names\n",
        "res_file_names = [os.path.basename(f).replace(\".txt\",\"\") for f in files]\n",
        "\n"
      ],
      "execution_count": null,
      "outputs": []
    },
    {
      "cell_type": "code",
      "metadata": {
        "id": "zht8BHwJP1v8",
        "colab_type": "code",
        "colab": {}
      },
      "source": [
        "output = open(\"/content/result_file.csv\",'w+')\n",
        "#Write file names into csv file\n",
        "i=0;\n",
        "for file in files:     \n",
        "    f=open(file, 'r') \n",
        "    j=0 \n",
        "    lines_op = f.readlines()\n",
        "    \n",
        "    #Update file name to filename and scentence line number\n",
        "    for line in lines_op:\n",
        "      output.writelines(res_file_names[i]+str(j)+\",\"+line.replace(\",\",\"\"))\n",
        "      j = j+1\n",
        "    i = i+1"
      ],
      "execution_count": null,
      "outputs": []
    },
    {
      "cell_type": "code",
      "metadata": {
        "id": "Pv_xmx62Mzrc",
        "colab_type": "code",
        "colab": {}
      },
      "source": [
        "'''Remove all the punctuations from the sentences, save the processed sentences into a new column in the same csv file'''\n",
        "import string\n",
        "\n",
        "def replace_values(string_value, value):\n",
        "  return string_value.replace(value,\"\")+\",\"\n",
        "\n",
        "def exclude_punctuations(val):\n",
        "  exclude = set(string.punctuation)\n",
        "  s = ''.join(ch for ch in val if ch not in exclude)\n",
        "  return s\n",
        "\n",
        "def write_to_file(fileName, res):\n",
        "  for i in res:\n",
        "    fileName.writelines(i)\n",
        "\n",
        "readfile = open(\"/content/result_file.csv\",\"r\")\n",
        "lines_read = readfile.readlines()\n",
        "\n",
        "op = list()\n",
        "\n",
        "for string_value in lines_read:\n",
        "  op.append(replace_values(string_value,\"\\n\")+exclude_punctuations(string_value.split(\",\")[1]))\n",
        "\n",
        "writefile = open(\"/content/result_file.csv\",\"w+\")\n",
        "\n",
        "writefile.truncate()\n",
        "\n",
        "write_to_file(writefile,op)"
      ],
      "execution_count": null,
      "outputs": []
    },
    {
      "cell_type": "code",
      "metadata": {
        "id": "l90nC_2YQma5",
        "colab_type": "code",
        "colab": {}
      },
      "source": [
        "'''Ask the user to enter a word, return all the sentences that include this word, \n",
        "\n",
        "three kinds of information should be returned: sentence id, sentence text content, the count that user input word appear in the sentence. (4 points)'''\n",
        "\n",
        "def fetch_list(value):\n",
        "  return \",\".join(value.split(\",\"))\n",
        "\n",
        "def find_the_value(sentence, word):\n",
        "  if(sentence.find(word)!=-1):\n",
        "    print(sentence,str(sentence.count(word)))\n",
        "\n",
        "\n",
        "word = input(\"Enter the string\")\n",
        "fileName = open(\"/content/result_file.csv\",\"r\")\n",
        "lines_read = fileName.readlines()\n",
        "\n",
        "\n",
        "for line in lines_read:\n",
        "  list_of_strings = fetch_list(line)\n",
        "  sentence = list_of_strings.split(\",\")[1]\n",
        "  find_the_value(sentence,word)\n",
        "\n",
        "\n",
        "\n"
      ],
      "execution_count": null,
      "outputs": []
    },
    {
      "cell_type": "markdown",
      "metadata": {
        "colab_type": "text",
        "id": "-12cqmJEpZOh"
      },
      "source": [
        "(4) Install packages nltk, numpy, scipy, pandas, and sklearn on Google Colab. Write a program to test whether they are installed successfully. (3 points for extra)"
      ]
    },
    {
      "cell_type": "code",
      "metadata": {
        "id": "XBxODlmiLh8i",
        "colab_type": "code",
        "colab": {
          "base_uri": "https://localhost:8080/",
          "height": 104
        },
        "outputId": "fa4951d2-135d-4629-d3c7-9fd15e332513"
      },
      "source": [
        "# write your answer here\n",
        "\n",
        "#!pip install pandas\n",
        "!pip install nltk\n",
        "!pip install numpy\n",
        "!pip install scipy\n",
        "!pip install pandas\n",
        "!pip install sklearn\n",
        "\n",
        "import pkg_resources\n",
        "\n",
        "for package in ['nltk', 'numpy', 'scipy', 'pandas', 'sklearn']:\n",
        "    try:\n",
        "        dist = pkg_resources.get_distribution(package)\n",
        "        print('{} ({}) is installed'.format(dist.key, dist.version))\n",
        "    except pkg_resources.DistributionNotFound:\n",
        "        print('{} is NOT installed'.format(package))"
      ],
      "execution_count": null,
      "outputs": [
        {
          "output_type": "stream",
          "text": [
            "nltk (3.2.5) is installed\n",
            "numpy (1.18.5) is installed\n",
            "scipy (1.4.1) is installed\n",
            "pandas (1.1.2) is installed\n",
            "sklearn (0.0) is installed\n"
          ],
          "name": "stdout"
        }
      ]
    }
  ]
}