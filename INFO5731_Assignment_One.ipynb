{
  "nbformat": 4,
  "nbformat_minor": 0,
  "metadata": {
    "colab": {
      "name": "INFO5731_Assignment_One.ipynb",
      "provenance": [],
      "collapsed_sections": [],
      "include_colab_link": true
    },
    "kernelspec": {
      "name": "python3",
      "display_name": "Python 3"
    }
  },
  "cells": [
    {
      "cell_type": "markdown",
      "metadata": {
        "id": "view-in-github",
        "colab_type": "text"
      },
      "source": [
        "<a href=\"https://colab.research.google.com/github/akhiltabjula/ComputationalMethodsForInformationSystems/blob/master/INFO5731_Assignment_One.ipynb\" target=\"_parent\"><img src=\"https://colab.research.google.com/assets/colab-badge.svg\" alt=\"Open In Colab\"/></a>"
      ]
    },
    {
      "cell_type": "markdown",
      "metadata": {
        "id": "Ryk8D1Q4Wsrp",
        "colab_type": "text"
      },
      "source": [
        "# **INFO5731 Assignment One**"
      ]
    },
    {
      "cell_type": "markdown",
      "metadata": {
        "id": "90_NR8c5XGWc",
        "colab_type": "text"
      },
      "source": [
        "# Question 1\n",
        "\n",
        "(20 points). Write a Python program to generate 12 random numbers between 1 and 100. Sort the list of numbers in ascending order and print it out. Sort the list of numbers in descending order and print it out. Calculate the average for the group and print it out."
      ]
    },
    {
      "cell_type": "code",
      "metadata": {
        "id": "5QX6bJjGWXY9",
        "colab_type": "code",
        "colab": {
          "base_uri": "https://localhost:8080/",
          "height": 67
        },
        "outputId": "7972b613-4293-431b-d989-4a5153129ba5"
      },
      "source": [
        "#generate random numbers with repetition\n",
        "import random as rd\n",
        "import numpy as np\n",
        "r = [rd.randrange(1,100) for i in range(1,12)]\n",
        "print(\"The actual list ---> \",r)\n",
        "print(\"Values after sorting ---> \",sorted(r))\n",
        "print(\"Average of list ---> \",np.average(r))"
      ],
      "execution_count": null,
      "outputs": [
        {
          "output_type": "stream",
          "text": [
            "The actual list --->  [75, 11, 1, 24, 17, 2, 82, 27, 60, 7, 23]\n",
            "Values after sorting --->  [1, 2, 7, 11, 17, 23, 24, 27, 60, 75, 82]\n",
            "Average of list --->  29.90909090909091\n"
          ],
          "name": "stdout"
        }
      ]
    },
    {
      "cell_type": "code",
      "metadata": {
        "id": "jStaD7G_JLd_",
        "colab_type": "code",
        "colab": {
          "base_uri": "https://localhost:8080/",
          "height": 67
        },
        "outputId": "66150eca-2f2e-4a1d-bb83-be91b86644e4"
      },
      "source": [
        "# generate random numbers without repetition\n",
        "import random\n",
        "res = random.sample(range(1,100), 12)\n",
        "print(\"The actual list ---> \",res)\n",
        "print(\"Values after sorting ---> \",sorted(res))\n",
        "print(\"Average of list ---> \", np.average(res))"
      ],
      "execution_count": null,
      "outputs": [
        {
          "output_type": "stream",
          "text": [
            "The actual list --->  [14, 90, 89, 61, 15, 98, 27, 40, 97, 34, 91, 2]\n",
            "Values after sorting --->  [2, 14, 15, 27, 34, 40, 61, 89, 90, 91, 97, 98]\n",
            "Average of list --->  54.833333333333336\n"
          ],
          "name": "stdout"
        }
      ]
    },
    {
      "cell_type": "markdown",
      "metadata": {
        "id": "1F_PZdH9Sh49",
        "colab_type": "text"
      },
      "source": [
        "# Question 2\n",
        "(25 points). Write a program that will do the following string formatting tasks:\n",
        "\n",
        "(1) Ask the user to enter two sentences.\n",
        "\n",
        "(2) Make each sentence into a list. Each element in the list should correspond to a word in the sentence. For example, if the sentence is \"Alas! Am I alive? This is my first python program\", the program should print out ['Alas, '!', 'Am', 'I', 'alive, '?', 'This', 'is', 'my', 'first', 'python', 'program'].\n",
        "\n",
        "(3) Compare the two sentences. Print out a list of words that occur in both sentences.\n",
        "\n",
        "(4) Remove any punctuation from the sentence and print it back out. It should remove at least the following characters, but it can remove more: period(“.”), comma (“,”), semicolon (“;”), and colon (“:”)\n",
        "\n",
        "(5) Count the number of vowels in the sentences. Print out each vowel and the number of times it appears in the sentences, such as: a:2, e:1, i:0, etc"
      ]
    },
    {
      "cell_type": "code",
      "metadata": {
        "id": "Y0oOSlsOS0cq",
        "colab_type": "code",
        "colab": {
          "base_uri": "https://localhost:8080/",
          "height": 50
        },
        "outputId": "35582848-62ec-4564-d40d-ec9e31e10dc5"
      },
      "source": [
        "#2.1\n",
        "\n",
        "#Prompt user to enter two sentences\n",
        "\n",
        "ip1 = input(\"Enter first sentence ---> \")\n",
        "ip2 = input(\"Enter second sentence ---> \")"
      ],
      "execution_count": null,
      "outputs": [
        {
          "output_type": "stream",
          "text": [
            "Enter first sentence ---> Under the title Et Sofer, \" Pen of the Writer\" (Lyk, 1864), David Kimhi composed a sort of grammatical compendium\n",
            "Enter second sentence ---> it consists, for the most part, of extracts from the Miklol.\n"
          ],
          "name": "stdout"
        }
      ]
    },
    {
      "cell_type": "code",
      "metadata": {
        "id": "w-QYAV4dJURb",
        "colab_type": "code",
        "colab": {
          "base_uri": "https://localhost:8080/",
          "height": 70
        },
        "outputId": "d687a84c-ec97-4a7b-9461-f8248317554d"
      },
      "source": [
        "#2.2\n",
        "#convert sentence to list\n",
        "\n",
        "#regex pattern\n",
        "import re\n",
        "#(\\w+|[^\\w\\s]) extracts punctuations\n",
        "res1 = re.compile(r'\\w+|[^\\w\\s]').findall(ip1)\n",
        "res2 = re.compile(r'\\w+|[^\\w\\s]').findall(ip2)\n",
        "print(\"List of strings with punctuations for input 1 ---> \", res1)\n",
        "print(\"List of strings with punctuations for input 2 ---> \", res2)"
      ],
      "execution_count": null,
      "outputs": [
        {
          "output_type": "stream",
          "text": [
            "List of strings with punctuations for input 1 --->  ['Under', 'the', 'title', 'Et', 'Sofer', ',', '\"', 'Pen', 'of', 'the', 'Writer', '\"', '(', 'Lyk', ',', '1864', ')', ',', 'David', 'Kimhi', 'composed', 'a', 'sort', 'of', 'grammatical', 'compendium']\n",
            "List of strings with punctuations for input 2 --->  ['it', 'consists', ',', 'for', 'the', 'most', 'part', ',', 'of', 'extracts', 'from', 'the', 'Miklol', '.']\n"
          ],
          "name": "stdout"
        }
      ]
    },
    {
      "cell_type": "code",
      "metadata": {
        "id": "SV4B3D2cJZZX",
        "colab_type": "code",
        "colab": {
          "base_uri": "https://localhost:8080/",
          "height": 34
        },
        "outputId": "00d5ad43-15e4-4f84-ca53-1ac2ba4a88e5"
      },
      "source": [
        "#2.3\n",
        "#(r'\\w+') extracts only words\n",
        "\n",
        "def words_list(val):\n",
        "  return re.compile(r'\\w+').findall(val)\n",
        "print(\"common words in both inputs ---> \",set(words_list(ip1))&set(words_list(ip2)))"
      ],
      "execution_count": null,
      "outputs": [
        {
          "output_type": "stream",
          "text": [
            "common words in both inputs --->  {'the', 'of'}\n"
          ],
          "name": "stdout"
        }
      ]
    },
    {
      "cell_type": "code",
      "metadata": {
        "id": "qOu4tpacJcnJ",
        "colab_type": "code",
        "colab": {
          "base_uri": "https://localhost:8080/",
          "height": 50
        },
        "outputId": "03645cd1-00ef-4d46-a356-0f392a8bf428"
      },
      "source": [
        "#2.4\n",
        "def remove_punctuations(ip):\n",
        "  return ''.join((c if c.isalnum() else ' ') for c in ip)\n",
        "\n",
        "print(\"Input1 after removing punctuations ---> \", remove_punctuations(ip1))\n",
        "print(\"Input2 after removing punctuations ---> \", remove_punctuations(ip2))"
      ],
      "execution_count": null,
      "outputs": [
        {
          "output_type": "stream",
          "text": [
            "Input1 after removing punctuations --->  Under the title Et Sofer    Pen of the Writer   Lyk  1864   David Kimhi composed a sort of grammatical compendium\n",
            "Input2 after removing punctuations --->  it consists  for the most part  of extracts from the Miklol \n"
          ],
          "name": "stdout"
        }
      ]
    },
    {
      "cell_type": "code",
      "metadata": {
        "id": "b3tTu-3cJlXV",
        "colab_type": "code",
        "colab": {
          "base_uri": "https://localhost:8080/",
          "height": 50
        },
        "outputId": "3dcfac45-f26e-4a8c-d8b5-30a1ba595df9"
      },
      "source": [
        "#2.5\n",
        "\n",
        "\n",
        "\n",
        "letters1 = list()\n",
        "values1 = list()\n",
        "\n",
        "def countVowels(ip):\n",
        "  \n",
        "  v = ['a','A','e','E','i','I','o','O','u','U']  \n",
        "  for i in v:\n",
        "    res = ip.count(i)\n",
        "    if res>0:\n",
        "      letters1.append(i)\n",
        "      values1.append(res)\n",
        "  return dict(zip(letters1,values1))\n",
        "\n",
        "print(\"Vowels count in input 1 ---> \",countVowels(ip1))\n",
        "print(\"Vowels count in input 2 ---> \",countVowels(ip2))"
      ],
      "execution_count": null,
      "outputs": [
        {
          "output_type": "stream",
          "text": [
            "Vowels count in input 1 --->  {'a': 5, 'e': 9, 'E': 1, 'i': 7, 'o': 7, 'u': 1, 'U': 1}\n",
            "Vowels count in input 2 --->  {'a': 2, 'e': 3, 'E': 1, 'i': 3, 'o': 6, 'u': 1, 'U': 1}\n"
          ],
          "name": "stdout"
        }
      ]
    },
    {
      "cell_type": "markdown",
      "metadata": {
        "id": "CmFoI4jDS9nx",
        "colab_type": "text"
      },
      "source": [
        "# Question 3 \n",
        "\n",
        "(15 points). The formula that describes the volume V of a sphere with radius r is the following:\n",
        "\n",
        "$ V=\\frac{4}{3}\\ast\\ \\pi\\ast\\ r^3 $\n",
        "\n",
        "Write a program to calculate the value of V when r is in the range of 1–10. Output the result in the following format:\n",
        "\n",
        "\tr\tV\n",
        "\t1\t…\n",
        "\t2\t…\n",
        "\t3\t…\n"
      ]
    },
    {
      "cell_type": "code",
      "metadata": {
        "id": "pEyqeioAT95b",
        "colab_type": "code",
        "colab": {
          "base_uri": "https://localhost:8080/",
          "height": 202
        },
        "outputId": "c52e02ed-7360-48f9-cf0e-b3d204920c47"
      },
      "source": [
        "#compute the volume of sphere\n",
        "import math\n",
        "def  volume_of_sphere():\n",
        "  print(\"r    v\")\n",
        "  for i in range(1,11):\n",
        "    print(i,\"  \",4*(math.pi)*pow(i,3)/3)\n",
        "  pass\n",
        "volume_of_sphere()"
      ],
      "execution_count": null,
      "outputs": [
        {
          "output_type": "stream",
          "text": [
            "r    v\n",
            "1    4.1887902047863905\n",
            "2    33.510321638291124\n",
            "3    113.09733552923255\n",
            "4    268.082573106329\n",
            "5    523.5987755982989\n",
            "6    904.7786842338604\n",
            "7    1436.755040241732\n",
            "8    2144.660584850632\n",
            "9    3053.6280592892786\n",
            "10    4188.790204786391\n"
          ],
          "name": "stdout"
        }
      ]
    },
    {
      "cell_type": "markdown",
      "metadata": {
        "id": "z3tBE7E-Xn5X",
        "colab_type": "text"
      },
      "source": [
        "# Question 4\n",
        "\n",
        "(40 points). In the field of Data Science, data is often formatted as a comma-delimited (CSV) file, where each line in a file corresponds to a field's value. Refer to Chapter 9 (p. 106) for more information on comma-delimited files. To answer this question, you will need to download the file [Assignment1_denton_housing.csv](https://github.com/unt-iialab/INFO5731_FALL2020/blob/master/Assignments/Assignment1_denton_housing.csv) included with this assignment. The [file Assignment1_denton_housing.csv](https://github.com/unt-iialab/INFO5731_FALL2020/blob/master/Assignments/Assignment1_denton_housing.csv) contains statistics about housing in the city of Denton from 2008 to 2014. Write a program to implement the following questions.\n",
        "\n",
        "(1) (10 pts) Calculate the difference in the number of Occupied Housing Units from year to year and print it. The difference must be calculated for the consecutive years such as 2008-2009, 2009-2010 etc. Finally, print the values in the ascending order.\n",
        "\n",
        "(2) (10 pts) For all the years, calculate the percentage of housing units which are vacant an occupied. Print the results in the following format:\n",
        "\n",
        "Year Vacant Housing Units Occupied Housing Units\n",
        "\n",
        "    2008  30%   70%                          \n",
        "\t2009 ----- -----\n",
        "\t2010 ----- -----\n",
        "    2011 ----- -----\n",
        "\t2012 ----- -----\n",
        "    2013 ----- -----\n",
        "\t2014 ----- -----\n",
        "  \n",
        "  \n",
        "\n",
        "(3) (10 pts) Calculate and print the valued and years in which the highest number of housing units were vacant and occupied. Print the results in the following format:  \n",
        "\n",
        "                              Year\tValue\n",
        "\tVacant Housing Units\t  -----   -----\n",
        "\tOccupied Housing Units\t-----   -----\n",
        "\n",
        "(4) (10 pts) Calculate the harmonic mean of the total housing units and print it out. You can find the information about harmonic mean here: https://ncalculators.com/statistics/harmonic-mean-calculator.htm"
      ]
    },
    {
      "cell_type": "code",
      "metadata": {
        "id": "lqGYuHBhcsRH",
        "colab_type": "code",
        "colab": {
          "base_uri": "https://localhost:8080/",
          "height": 134
        },
        "outputId": "4167d614-b4e9-4a04-edd3-4b0751326255"
      },
      "source": [
        "import pandas as pd\n",
        "\n",
        "\n",
        "data = pd.read_csv(\"https://raw.githubusercontent.com/unt-iialab/INFO5731_FALL2020/master/Assignments/Assignment1_denton_housing.csv\",skip_blank_lines=True)\n",
        "\n",
        "#question 1\n",
        "#filter the dataset basing on title field = occupied housing units\n",
        "data_occupied_housing_units = data[(data[\"title_field\"]==\"Occupied Housing Units\")].sort_values(by='year',ascending=True)\n",
        "#compute the difference, sort the values  and drop the NaN fields if any\n",
        "print(data_occupied_housing_units['value'].diff().sort_values().dropna())\n",
        "\n"
      ],
      "execution_count": null,
      "outputs": [
        {
          "output_type": "stream",
          "text": [
            "17    -795.0\n",
            "11    -303.0\n",
            "8     1404.0\n",
            "5     1565.0\n",
            "2     2622.0\n",
            "14    5091.0\n",
            "Name: value, dtype: float64\n"
          ],
          "name": "stdout"
        }
      ]
    },
    {
      "cell_type": "code",
      "metadata": {
        "id": "USpWmSORMEWg",
        "colab_type": "code",
        "colab": {
          "base_uri": "https://localhost:8080/",
          "height": 151
        },
        "outputId": "a2841c05-c019-4569-f6f0-694a986afe46"
      },
      "source": [
        "#question 2\n",
        "\n",
        "#extract the values to list\n",
        "data_occupied_housing_units_value = data_occupied_housing_units[\"value\"].to_list()\n",
        "data_vacant_housing_units_value = data[(data[\"title_field\"]==\"Vacant Housing Units\")].sort_values(by='year',ascending=True)[\"value\"].to_list()\n",
        "total_field_unit_value = data[(data[\"title_field\"]==\"Total Housing Units\")].sort_values(by='year',ascending=True)[\"value\"].to_list()\n",
        "data_year = sorted(data['year'].unique())\n",
        "\n",
        "#compute percentage\n",
        "def fetch_percentages(val,tot):\n",
        "  l = len(val)\n",
        "  res = list()\n",
        "  for i in range(l):\n",
        "    res.append(str(round(val[i]*100/tot[i],2))+\"%\")\n",
        "  return res\n",
        "  pass\n",
        "\n",
        "occupied_units_percentage = fetch_percentages(data_occupied_housing_units_value,total_field_unit_value)\n",
        "vacant_units_percentage = fetch_percentages(data_vacant_housing_units_value,total_field_unit_value)\n",
        "\n",
        "df_row = pd.concat([pd.DataFrame(data_year,columns=['year']),\n",
        "                    pd.DataFrame(vacant_units_percentage,columns=['| vacant housing percentage']), \n",
        "                    pd.DataFrame(occupied_units_percentage,columns=['| occupied housing percentage'])],axis=1)\n",
        "print(df_row)\n"
      ],
      "execution_count": null,
      "outputs": [
        {
          "output_type": "stream",
          "text": [
            "   year | vacant housing percentage | occupied housing percentage\n",
            "0  2008                      10.88%                        89.12%\n",
            "1  2009                       9.07%                        90.93%\n",
            "2  2010                       8.14%                        91.86%\n",
            "3  2011                       9.38%                        90.62%\n",
            "4  2012                       6.68%                        93.32%\n",
            "5  2013                        8.8%                         91.2%\n",
            "6  2014                       5.73%                        94.27%\n"
          ],
          "name": "stdout"
        }
      ]
    },
    {
      "cell_type": "code",
      "metadata": {
        "id": "RMwwdfKCMLK6",
        "colab_type": "code",
        "colab": {
          "base_uri": "https://localhost:8080/",
          "height": 106
        },
        "outputId": "ce3f77be-086d-433f-a11e-0f61639b5ebf"
      },
      "source": [
        "#question 3\n",
        "\n",
        "def fetch_the_year(housing_unit,max_units):\n",
        "  return data_year[housing_unit.index(max_units)]\n",
        "  pass\n",
        "\n",
        "val = [\"Vacant Housing Units\",\"Occupied Housing Units\"]\n",
        "years = list()\n",
        "units = list()\n",
        "max_vacant_units = max(data_vacant_housing_units_value)\n",
        "units.append(max_vacant_units)\n",
        "years.append(fetch_the_year(data_vacant_housing_units_value,max_vacant_units))\n",
        "max_occupied_units = max(data_occupied_housing_units_value)\n",
        "units.append(max_occupied_units)\n",
        "years.append(fetch_the_year(data_occupied_housing_units_value,max_occupied_units))\n",
        "df_row = pd.concat([pd.DataFrame(val,columns=['']),\n",
        "                    pd.DataFrame(years,columns=['year']), \n",
        "                    pd.DataFrame(units,columns=['units'])],axis=1)\n",
        "\n",
        "df_row"
      ],
      "execution_count": null,
      "outputs": [
        {
          "output_type": "execute_result",
          "data": {
            "text/html": [
              "<div>\n",
              "<style scoped>\n",
              "    .dataframe tbody tr th:only-of-type {\n",
              "        vertical-align: middle;\n",
              "    }\n",
              "\n",
              "    .dataframe tbody tr th {\n",
              "        vertical-align: top;\n",
              "    }\n",
              "\n",
              "    .dataframe thead th {\n",
              "        text-align: right;\n",
              "    }\n",
              "</style>\n",
              "<table border=\"1\" class=\"dataframe\">\n",
              "  <thead>\n",
              "    <tr style=\"text-align: right;\">\n",
              "      <th></th>\n",
              "      <th></th>\n",
              "      <th>year</th>\n",
              "      <th>units</th>\n",
              "    </tr>\n",
              "  </thead>\n",
              "  <tbody>\n",
              "    <tr>\n",
              "      <th>0</th>\n",
              "      <td>Vacant Housing Units</td>\n",
              "      <td>2008</td>\n",
              "      <td>4483</td>\n",
              "    </tr>\n",
              "    <tr>\n",
              "      <th>1</th>\n",
              "      <td>Occupied Housing Units</td>\n",
              "      <td>2014</td>\n",
              "      <td>46295</td>\n",
              "    </tr>\n",
              "  </tbody>\n",
              "</table>\n",
              "</div>"
            ],
            "text/plain": [
              "                           year  units\n",
              "0    Vacant Housing Units  2008   4483\n",
              "1  Occupied Housing Units  2014  46295"
            ]
          },
          "metadata": {
            "tags": []
          },
          "execution_count": 19
        }
      ]
    },
    {
      "cell_type": "code",
      "metadata": {
        "id": "Y7xVqMkUMOd0",
        "colab_type": "code",
        "colab": {
          "base_uri": "https://localhost:8080/",
          "height": 34
        },
        "outputId": "c444f938-0dd6-43bc-8815-718243be4691"
      },
      "source": [
        "#question 4\n",
        "from scipy import stats\n",
        "print('harmonic mean of total housing units =', round(stats.hmean(total_field_unit_value),2))"
      ],
      "execution_count": null,
      "outputs": [
        {
          "output_type": "stream",
          "text": [
            "harmonic mean of total housing units = 44398.29\n"
          ],
          "name": "stdout"
        }
      ]
    }
  ]
}