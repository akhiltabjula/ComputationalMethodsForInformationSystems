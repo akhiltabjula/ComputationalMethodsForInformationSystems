{
  "nbformat": 4,
  "nbformat_minor": 0,
  "metadata": {
    "kernelspec": {
      "display_name": "Python 3",
      "language": "python",
      "name": "python3"
    },
    "language_info": {
      "codemirror_mode": {
        "name": "ipython",
        "version": 3
      },
      "file_extension": ".py",
      "mimetype": "text/x-python",
      "name": "python",
      "nbconvert_exporter": "python",
      "pygments_lexer": "ipython3",
      "version": "3.7.4"
    },
    "colab": {
      "name": "In_class_exercise_08.ipynb",
      "provenance": [],
      "collapsed_sections": [],
      "toc_visible": true,
      "include_colab_link": true
    }
  },
  "cells": [
    {
      "cell_type": "markdown",
      "metadata": {
        "id": "view-in-github",
        "colab_type": "text"
      },
      "source": [
        "<a href=\"https://colab.research.google.com/github/akhiltabjula/ComputationalMethodsForInformationSystems/blob/master/In_class_exercise_08.ipynb\" target=\"_parent\"><img src=\"https://colab.research.google.com/assets/colab-badge.svg\" alt=\"Open In Colab\"/></a>"
      ]
    },
    {
      "cell_type": "markdown",
      "metadata": {
        "id": "zBtmg28K_bk8"
      },
      "source": [
        "# **The eighth in-class-exercise (20 points in total, 10/29/2020)**"
      ]
    },
    {
      "cell_type": "markdown",
      "metadata": {
        "id": "MSB4zVh8_bk_"
      },
      "source": [
        "The data for this exercise is from the dataset you created from assignment three. Please perform answer the following questions based on your data:"
      ]
    },
    {
      "cell_type": "markdown",
      "metadata": {
        "id": "rPZRxrda_blC"
      },
      "source": [
        "## (1) (10 points) Write a python program to extract the sentiment related terms from the corpus. You may use python package such as polyglot or external lexicon resources in the question. Rank the sentiment related terms by frequency."
      ]
    },
    {
      "cell_type": "code",
      "metadata": {
        "id": "2aIh6Q33_blE",
        "outputId": "fdca46f7-a061-42ef-f887-fbe0e1df7b4b",
        "colab": {
          "base_uri": "https://localhost:8080/",
          "height": 111
        }
      },
      "source": [
        "# Write your code here\n",
        "# from polyglot.text import Text\n",
        "\n",
        "import pandas as pd\n",
        "sentiments = pd.read_csv(\"/content/Sentiment Analysis and Text Classification.csv\",encoding=\"ISO-8859-1\")\n",
        "sentiments=sentiments.drop(\"doc_id\",axis=1)\n",
        "sentiments[\"review\"] = sentiments[\"review\"].fillna(\" \")\n",
        "sentiments[\"sentiment\"] = sentiments[\"sentiment\"].apply(lambda x: str(x).lower()).fillna(\"Neutral\")\n",
        "sentiments.head(2)\n"
      ],
      "execution_count": 169,
      "outputs": [
        {
          "output_type": "execute_result",
          "data": {
            "text/html": [
              "<div>\n",
              "<style scoped>\n",
              "    .dataframe tbody tr th:only-of-type {\n",
              "        vertical-align: middle;\n",
              "    }\n",
              "\n",
              "    .dataframe tbody tr th {\n",
              "        vertical-align: top;\n",
              "    }\n",
              "\n",
              "    .dataframe thead th {\n",
              "        text-align: right;\n",
              "    }\n",
              "</style>\n",
              "<table border=\"1\" class=\"dataframe\">\n",
              "  <thead>\n",
              "    <tr style=\"text-align: right;\">\n",
              "      <th></th>\n",
              "      <th>Names</th>\n",
              "      <th>review</th>\n",
              "      <th>cleaned_data</th>\n",
              "      <th>sentiment</th>\n",
              "    </tr>\n",
              "  </thead>\n",
              "  <tbody>\n",
              "    <tr>\n",
              "      <th>0</th>\n",
              "      <td>MihaVrhunc</td>\n",
              "      <td>Every once in a while a movie comes, that trul...</td>\n",
              "      <td>every movie comes truly makes impact joaquins ...</td>\n",
              "      <td>positive</td>\n",
              "    </tr>\n",
              "    <tr>\n",
              "      <th>1</th>\n",
              "      <td>lesterarnoldpinto</td>\n",
              "      <td>This is a movie that only those who have felt ...</td>\n",
              "      <td>movie felt alone isolated truly relate underst...</td>\n",
              "      <td>neutral</td>\n",
              "    </tr>\n",
              "  </tbody>\n",
              "</table>\n",
              "</div>"
            ],
            "text/plain": [
              "               Names  ... sentiment\n",
              "0         MihaVrhunc  ...  positive\n",
              "1  lesterarnoldpinto  ...   neutral\n",
              "\n",
              "[2 rows x 4 columns]"
            ]
          },
          "metadata": {
            "tags": []
          },
          "execution_count": 169
        }
      ]
    },
    {
      "cell_type": "code",
      "metadata": {
        "id": "4_cZ_X4s-ovD"
      },
      "source": [
        "import nltk\n"
      ],
      "execution_count": 112,
      "outputs": []
    },
    {
      "cell_type": "code",
      "metadata": {
        "id": "cVU3Eng-IcD3",
        "outputId": "58bfa3e4-2246-44f9-b43b-db5d8106f525",
        "colab": {
          "base_uri": "https://localhost:8080/"
        }
      },
      "source": [
        "\n",
        "nltk.download('stopwords')"
      ],
      "execution_count": 113,
      "outputs": [
        {
          "output_type": "stream",
          "text": [
            "[nltk_data] Downloading package stopwords to /root/nltk_data...\n",
            "[nltk_data]   Package stopwords is already up-to-date!\n"
          ],
          "name": "stdout"
        },
        {
          "output_type": "execute_result",
          "data": {
            "text/plain": [
              "True"
            ]
          },
          "metadata": {
            "tags": []
          },
          "execution_count": 113
        }
      ]
    },
    {
      "cell_type": "code",
      "metadata": {
        "id": "C9Kff2P8IWAB"
      },
      "source": [
        "#remove stop words \n",
        "\n",
        "from nltk.corpus import stopwords\n",
        "stopwords = stopwords.words('english')"
      ],
      "execution_count": 114,
      "outputs": []
    },
    {
      "cell_type": "code",
      "metadata": {
        "id": "n4DhLoFPFE0V"
      },
      "source": [
        "sentiments[\"cleaned_data\"] = sentiments[\"cleaned_data\"].apply(lambda x : \" \".join([i for i in str(x).split(\" \") if i not in list(stopwords)]))"
      ],
      "execution_count": 115,
      "outputs": []
    },
    {
      "cell_type": "code",
      "metadata": {
        "id": "b_0eZyLQF4pG",
        "outputId": "54129b13-7b7a-432f-876c-db0ab5f6a2d9",
        "colab": {
          "base_uri": "https://localhost:8080/"
        }
      },
      "source": [
        "nltk.download('punkt')"
      ],
      "execution_count": 116,
      "outputs": [
        {
          "output_type": "stream",
          "text": [
            "[nltk_data] Downloading package punkt to /root/nltk_data...\n",
            "[nltk_data]   Package punkt is already up-to-date!\n"
          ],
          "name": "stdout"
        },
        {
          "output_type": "execute_result",
          "data": {
            "text/plain": [
              "True"
            ]
          },
          "metadata": {
            "tags": []
          },
          "execution_count": 116
        }
      ]
    },
    {
      "cell_type": "code",
      "metadata": {
        "id": "wPbhxxQo5aVa",
        "outputId": "a692469c-1615-468f-c4be-5b1713d86304",
        "colab": {
          "base_uri": "https://localhost:8080/",
          "height": 289
        }
      },
      "source": [
        "#split the words and find the occurance of each word in the entire list\n",
        "sentiments[\"set of words\"] = sentiments[\"cleaned_data\"].apply(lambda x : nltk.word_tokenize(str(x)))\n",
        "sentiments.head(5)"
      ],
      "execution_count": 117,
      "outputs": [
        {
          "output_type": "execute_result",
          "data": {
            "text/html": [
              "<div>\n",
              "<style scoped>\n",
              "    .dataframe tbody tr th:only-of-type {\n",
              "        vertical-align: middle;\n",
              "    }\n",
              "\n",
              "    .dataframe tbody tr th {\n",
              "        vertical-align: top;\n",
              "    }\n",
              "\n",
              "    .dataframe thead th {\n",
              "        text-align: right;\n",
              "    }\n",
              "</style>\n",
              "<table border=\"1\" class=\"dataframe\">\n",
              "  <thead>\n",
              "    <tr style=\"text-align: right;\">\n",
              "      <th></th>\n",
              "      <th>Names</th>\n",
              "      <th>review</th>\n",
              "      <th>cleaned_data</th>\n",
              "      <th>sentiment</th>\n",
              "      <th>set of words</th>\n",
              "    </tr>\n",
              "  </thead>\n",
              "  <tbody>\n",
              "    <tr>\n",
              "      <th>0</th>\n",
              "      <td>MihaVrhunc</td>\n",
              "      <td>Every once in a while a movie comes, that trul...</td>\n",
              "      <td>every movie comes truly makes impact joaquins ...</td>\n",
              "      <td>positive</td>\n",
              "      <td>[every, movie, comes, truly, makes, impact, jo...</td>\n",
              "    </tr>\n",
              "    <tr>\n",
              "      <th>1</th>\n",
              "      <td>lesterarnoldpinto</td>\n",
              "      <td>This is a movie that only those who have felt ...</td>\n",
              "      <td>movie felt alone isolated truly relate underst...</td>\n",
              "      <td>Neutral</td>\n",
              "      <td>[movie, felt, alone, isolated, truly, relate, ...</td>\n",
              "    </tr>\n",
              "    <tr>\n",
              "      <th>2</th>\n",
              "      <td>Aman_Goyal</td>\n",
              "      <td>Truly a masterpiece, The Best Hollywood film o...</td>\n",
              "      <td>truly masterpiece best hollywood film 2019 one...</td>\n",
              "      <td>Positive</td>\n",
              "      <td>[truly, masterpiece, best, hollywood, film, 20...</td>\n",
              "    </tr>\n",
              "    <tr>\n",
              "      <th>3</th>\n",
              "      <td>logical_guy</td>\n",
              "      <td>Joaquin Phoenix gives a tour de force performa...</td>\n",
              "      <td>joaquin phoenix gives tour de force performanc...</td>\n",
              "      <td>Positive</td>\n",
              "      <td>[joaquin, phoenix, gives, tour, de, force, per...</td>\n",
              "    </tr>\n",
              "    <tr>\n",
              "      <th>4</th>\n",
              "      <td>kdagoulis26</td>\n",
              "      <td>Most of the time movies are anticipated like t...</td>\n",
              "      <td>time movies anticipated like end falling short...</td>\n",
              "      <td>Neutral</td>\n",
              "      <td>[time, movies, anticipated, like, end, falling...</td>\n",
              "    </tr>\n",
              "  </tbody>\n",
              "</table>\n",
              "</div>"
            ],
            "text/plain": [
              "               Names  ...                                       set of words\n",
              "0         MihaVrhunc  ...  [every, movie, comes, truly, makes, impact, jo...\n",
              "1  lesterarnoldpinto  ...  [movie, felt, alone, isolated, truly, relate, ...\n",
              "2         Aman_Goyal  ...  [truly, masterpiece, best, hollywood, film, 20...\n",
              "3        logical_guy  ...  [joaquin, phoenix, gives, tour, de, force, per...\n",
              "4        kdagoulis26  ...  [time, movies, anticipated, like, end, falling...\n",
              "\n",
              "[5 rows x 5 columns]"
            ]
          },
          "metadata": {
            "tags": []
          },
          "execution_count": 117
        }
      ]
    },
    {
      "cell_type": "code",
      "metadata": {
        "id": "C5x-7iyaGQ6a",
        "outputId": "674571c8-3720-4107-b4aa-eca3f2c8b24c",
        "colab": {
          "base_uri": "https://localhost:8080/"
        }
      },
      "source": [
        "\n",
        "sentiment_list = list(sentiments[[\"cleaned_data\",\"sentiment\"]].to_records(index=False))\n",
        "sentiment_list[:2]"
      ],
      "execution_count": 118,
      "outputs": [
        {
          "output_type": "execute_result",
          "data": {
            "text/plain": [
              "[('every movie comes truly makes impact joaquins performance scenography brilliance grotesque haunting cringy hard watch times mesmerizing wont blink eye watching tragic seriously funny moments emotional rollercoaster sometimes multiple emotions poppingup timethis far typical actionriddled predictable superhero movie proper psychological thrillerdrama single best character development ever seen', 'positive'),\n",
              " ('movie felt alone isolated truly relate understand motive feel sorry character lot people see movie think encourages violence truly movie encourage every one us become better person treat everyone respect make feel like belong world instead making feel isolated', 'Neutral')]"
            ]
          },
          "metadata": {
            "tags": []
          },
          "execution_count": 118
        }
      ]
    },
    {
      "cell_type": "code",
      "metadata": {
        "id": "lWUmWM1_K0mo"
      },
      "source": [
        "sentences = sentiments[\"cleaned_data\"].values.tolist()\n",
        "list_of_words = [j for i in sentences for j in i.split(\" \")]"
      ],
      "execution_count": 119,
      "outputs": []
    },
    {
      "cell_type": "code",
      "metadata": {
        "id": "tZKNg4HbGc1g"
      },
      "source": [
        "def document_features(document):\n",
        "    document_words = document.split(\" \")\n",
        "    features = {}\n",
        "    for word in list_of_words:\n",
        "        features['contains({})'.format(word)] = (word in document_words)\n",
        "    return features"
      ],
      "execution_count": 120,
      "outputs": []
    },
    {
      "cell_type": "code",
      "metadata": {
        "id": "Euv0bK80JFiV"
      },
      "source": [
        "#accuracy\n",
        "featuresets = [(document_features(str(d)), c) for (d,c) in sentiment_list]\n",
        "train_set, test_set = featuresets[:50], featuresets[50:]\n",
        "classifier = nltk.NaiveBayesClassifier.train(train_set)\n"
      ],
      "execution_count": 121,
      "outputs": []
    },
    {
      "cell_type": "code",
      "metadata": {
        "id": "2iU7L4iIJdWu",
        "outputId": "4c75b8d7-91db-4018-8acd-33764bb9eb8d",
        "colab": {
          "base_uri": "https://localhost:8080/"
        }
      },
      "source": [
        "print(nltk.classify.accuracy(classifier, test_set))"
      ],
      "execution_count": 122,
      "outputs": [
        {
          "output_type": "stream",
          "text": [
            "0.22\n"
          ],
          "name": "stdout"
        }
      ]
    },
    {
      "cell_type": "code",
      "metadata": {
        "id": "jVgxzeaTNK4Z",
        "outputId": "3ae21d6b-cf5b-4b49-ecc1-e51ec35f8dd1",
        "colab": {
          "base_uri": "https://localhost:8080/"
        }
      },
      "source": [
        "classifier.show_most_informative_features(20)"
      ],
      "execution_count": 123,
      "outputs": [
        {
          "output_type": "stream",
          "text": [
            "Most Informative Features\n",
            "          contains(high) = True           neutra : positi =     15.0 : 1.0\n",
            "       contains(started) = True           negati : positi =     15.0 : 1.0\n",
            "         contains(loses) = True           negati : positi =     15.0 : 1.0\n",
            "      contains(applause) = True           negati : positi =     15.0 : 1.0\n",
            "       contains(looking) = True           negati : positi =     15.0 : 1.0\n",
            "       contains(moments) = True           negati : positi =     15.0 : 1.0\n",
            "         contains(genre) = True           negati : positi =     15.0 : 1.0\n",
            "          contains(slow) = True           negati : positi =     15.0 : 1.0\n",
            " contains(psychological) = True           negati : positi =     15.0 : 1.0\n",
            "      contains(terrible) = True           negati : positi =     15.0 : 1.0\n",
            "      contains(complete) = True           negati : positi =     15.0 : 1.0\n",
            "         contains(snaps) = True           negati : positi =     15.0 : 1.0\n",
            "          contains(todd) = True           Negati : positi =     15.0 : 1.0\n",
            "    contains(compelling) = True           negati : positi =     15.0 : 1.0\n",
            "      contains(consider) = True           negati : positi =     15.0 : 1.0\n",
            "           contains(top) = True           negati : positi =     15.0 : 1.0\n",
            "        contains(psycho) = True           negati : positi =     15.0 : 1.0\n",
            "  contains(expectations) = True           negati : positi =     15.0 : 1.0\n",
            "          contains(main) = True           negati : positi =     15.0 : 1.0\n",
            "       contains(couldve) = True           negati : positi =     15.0 : 1.0\n"
          ],
          "name": "stdout"
        }
      ]
    },
    {
      "cell_type": "code",
      "metadata": {
        "id": "KhcNenMULzpW",
        "outputId": "a686f318-f437-4377-e6aa-41cbf85a5c7d",
        "colab": {
          "base_uri": "https://localhost:8080/"
        }
      },
      "source": [
        "!pip install TextBlob"
      ],
      "execution_count": 124,
      "outputs": [
        {
          "output_type": "stream",
          "text": [
            "Requirement already satisfied: TextBlob in /usr/local/lib/python3.6/dist-packages (0.15.3)\n",
            "Requirement already satisfied: nltk>=3.1 in /usr/local/lib/python3.6/dist-packages (from TextBlob) (3.2.5)\n",
            "Requirement already satisfied: six in /usr/local/lib/python3.6/dist-packages (from nltk>=3.1->TextBlob) (1.15.0)\n"
          ],
          "name": "stdout"
        }
      ]
    },
    {
      "cell_type": "code",
      "metadata": {
        "id": "nwI-WCoYHsFg"
      },
      "source": [
        "from textblob  import TextBlob\n",
        "output_df = sentiments['set of words'].apply(lambda x : pd.value_counts(x))\n",
        "output_df = output_df.fillna(0)\n",
        "output_df1 = pd.DataFrame(output_df.columns)\n",
        "output_df1[\"frequency\"] = output_df.T.sum(axis=0)"
      ],
      "execution_count": 125,
      "outputs": []
    },
    {
      "cell_type": "code",
      "metadata": {
        "id": "5iKAvK2TRrWJ"
      },
      "source": [
        "output_df1 = output_df1[[0,\"frequency\"]].sort_values(by= \"frequency\", ascending=False).reset_index()\n",
        "output_df1 = output_df1.drop(\"index\",axis=1)"
      ],
      "execution_count": 126,
      "outputs": []
    },
    {
      "cell_type": "code",
      "metadata": {
        "id": "k02hkFOYSOX7"
      },
      "source": [
        "output_df1[\"rank\"] = list(range(1,1699))"
      ],
      "execution_count": 127,
      "outputs": []
    },
    {
      "cell_type": "code",
      "metadata": {
        "id": "SwGgGzXpUTb9",
        "outputId": "d09d86d1-8f53-4418-937c-fdaf765924a1",
        "colab": {
          "base_uri": "https://localhost:8080/",
          "height": 359
        }
      },
      "source": [
        "output_df1.head(10)"
      ],
      "execution_count": 128,
      "outputs": [
        {
          "output_type": "execute_result",
          "data": {
            "text/html": [
              "<div>\n",
              "<style scoped>\n",
              "    .dataframe tbody tr th:only-of-type {\n",
              "        vertical-align: middle;\n",
              "    }\n",
              "\n",
              "    .dataframe tbody tr th {\n",
              "        vertical-align: top;\n",
              "    }\n",
              "\n",
              "    .dataframe thead th {\n",
              "        text-align: right;\n",
              "    }\n",
              "</style>\n",
              "<table border=\"1\" class=\"dataframe\">\n",
              "  <thead>\n",
              "    <tr style=\"text-align: right;\">\n",
              "      <th></th>\n",
              "      <th>0</th>\n",
              "      <th>frequency</th>\n",
              "      <th>rank</th>\n",
              "    </tr>\n",
              "  </thead>\n",
              "  <tbody>\n",
              "    <tr>\n",
              "      <th>0</th>\n",
              "      <td>rule</td>\n",
              "      <td>378.0</td>\n",
              "      <td>1</td>\n",
              "    </tr>\n",
              "    <tr>\n",
              "      <th>1</th>\n",
              "      <td>single</td>\n",
              "      <td>371.0</td>\n",
              "      <td>2</td>\n",
              "    </tr>\n",
              "    <tr>\n",
              "      <th>2</th>\n",
              "      <td>scenography</td>\n",
              "      <td>200.0</td>\n",
              "      <td>3</td>\n",
              "    </tr>\n",
              "    <tr>\n",
              "      <th>3</th>\n",
              "      <td>psychological</td>\n",
              "      <td>193.0</td>\n",
              "      <td>4</td>\n",
              "    </tr>\n",
              "    <tr>\n",
              "      <th>4</th>\n",
              "      <td>person</td>\n",
              "      <td>154.0</td>\n",
              "      <td>5</td>\n",
              "    </tr>\n",
              "    <tr>\n",
              "      <th>5</th>\n",
              "      <td>makes</td>\n",
              "      <td>141.0</td>\n",
              "      <td>6</td>\n",
              "    </tr>\n",
              "    <tr>\n",
              "      <th>6</th>\n",
              "      <td>cringy</td>\n",
              "      <td>117.0</td>\n",
              "      <td>7</td>\n",
              "    </tr>\n",
              "    <tr>\n",
              "      <th>7</th>\n",
              "      <td>proper</td>\n",
              "      <td>116.0</td>\n",
              "      <td>8</td>\n",
              "    </tr>\n",
              "    <tr>\n",
              "      <th>8</th>\n",
              "      <td>multiple</td>\n",
              "      <td>115.0</td>\n",
              "      <td>9</td>\n",
              "    </tr>\n",
              "    <tr>\n",
              "      <th>9</th>\n",
              "      <td>making</td>\n",
              "      <td>104.0</td>\n",
              "      <td>10</td>\n",
              "    </tr>\n",
              "  </tbody>\n",
              "</table>\n",
              "</div>"
            ],
            "text/plain": [
              "               0  frequency  rank\n",
              "0           rule      378.0     1\n",
              "1         single      371.0     2\n",
              "2    scenography      200.0     3\n",
              "3  psychological      193.0     4\n",
              "4         person      154.0     5\n",
              "5          makes      141.0     6\n",
              "6         cringy      117.0     7\n",
              "7         proper      116.0     8\n",
              "8       multiple      115.0     9\n",
              "9         making      104.0    10"
            ]
          },
          "metadata": {
            "tags": []
          },
          "execution_count": 128
        }
      ]
    },
    {
      "cell_type": "markdown",
      "metadata": {
        "id": "IXS14I_L_blP"
      },
      "source": [
        "## (2) (10 points) Compare the performance of the following tools in sentiment identification: TextBlob (https://textblob.readthedocs.io/en/dev/), VADER (https://github.com/cjhutto/vaderSentiment), TFIDF-based Support Vector Machine (SVM) (Split your data into training and testing data). Take your own annotation as the standard answers. \n",
        "\n",
        "Reference code: https://towardsdatascience.com/fine-grained-sentiment-analysis-in-python-part-1-2697bb111ed4"
      ]
    },
    {
      "cell_type": "markdown",
      "metadata": {
        "id": "FMLSSip1bfwi"
      },
      "source": [
        ""
      ]
    },
    {
      "cell_type": "code",
      "metadata": {
        "id": "k1z-nPPh_blR",
        "outputId": "7b4bbdf7-58fe-477f-f14d-58df9aecb048",
        "colab": {
          "base_uri": "https://localhost:8080/",
          "height": 204
        }
      },
      "source": [
        "# Write your code here\n",
        "result2_df = sentiments[[\"cleaned_data\",\"sentiment\"]].reset_index()\n",
        "\n",
        "result2_df[\"text blob polarity\"] = result2_df[\"cleaned_data\"].apply(lambda x: TextBlob(str(x)).sentiment.polarity)\n",
        "result2_df = result2_df.drop(\"index\",axis=1)\n",
        "result2_df.head(5)"
      ],
      "execution_count": 157,
      "outputs": [
        {
          "output_type": "execute_result",
          "data": {
            "text/html": [
              "<div>\n",
              "<style scoped>\n",
              "    .dataframe tbody tr th:only-of-type {\n",
              "        vertical-align: middle;\n",
              "    }\n",
              "\n",
              "    .dataframe tbody tr th {\n",
              "        vertical-align: top;\n",
              "    }\n",
              "\n",
              "    .dataframe thead th {\n",
              "        text-align: right;\n",
              "    }\n",
              "</style>\n",
              "<table border=\"1\" class=\"dataframe\">\n",
              "  <thead>\n",
              "    <tr style=\"text-align: right;\">\n",
              "      <th></th>\n",
              "      <th>cleaned_data</th>\n",
              "      <th>sentiment</th>\n",
              "      <th>text blob polarity</th>\n",
              "    </tr>\n",
              "  </thead>\n",
              "  <tbody>\n",
              "    <tr>\n",
              "      <th>0</th>\n",
              "      <td>every movie comes truly makes impact joaquins ...</td>\n",
              "      <td>positive</td>\n",
              "      <td>-0.027126</td>\n",
              "    </tr>\n",
              "    <tr>\n",
              "      <th>1</th>\n",
              "      <td>movie felt alone isolated truly relate underst...</td>\n",
              "      <td>Neutral</td>\n",
              "      <td>0.000000</td>\n",
              "    </tr>\n",
              "    <tr>\n",
              "      <th>2</th>\n",
              "      <td>truly masterpiece best hollywood film 2019 one...</td>\n",
              "      <td>Positive</td>\n",
              "      <td>0.236250</td>\n",
              "    </tr>\n",
              "    <tr>\n",
              "      <th>3</th>\n",
              "      <td>joaquin phoenix gives tour de force performanc...</td>\n",
              "      <td>Positive</td>\n",
              "      <td>-0.081481</td>\n",
              "    </tr>\n",
              "    <tr>\n",
              "      <th>4</th>\n",
              "      <td>time movies anticipated like end falling short...</td>\n",
              "      <td>Neutral</td>\n",
              "      <td>0.057143</td>\n",
              "    </tr>\n",
              "  </tbody>\n",
              "</table>\n",
              "</div>"
            ],
            "text/plain": [
              "                                        cleaned_data  ... text blob polarity\n",
              "0  every movie comes truly makes impact joaquins ...  ...          -0.027126\n",
              "1  movie felt alone isolated truly relate underst...  ...           0.000000\n",
              "2  truly masterpiece best hollywood film 2019 one...  ...           0.236250\n",
              "3  joaquin phoenix gives tour de force performanc...  ...          -0.081481\n",
              "4  time movies anticipated like end falling short...  ...           0.057143\n",
              "\n",
              "[5 rows x 3 columns]"
            ]
          },
          "metadata": {
            "tags": []
          },
          "execution_count": 157
        }
      ]
    },
    {
      "cell_type": "code",
      "metadata": {
        "id": "Z_x1ZgqETHPW",
        "outputId": "db97748d-6801-4e5b-d1ae-4f7cff84be10",
        "colab": {
          "base_uri": "https://localhost:8080/",
          "height": 204
        }
      },
      "source": [
        "result2_df['text_blob_prediction'] = pd.cut(result2_df['text blob polarity'], bins=5, labels=[\"negative\",\"negative\", \"neutral\", \"positive\",\"positive\"],ordered=False)\n",
        "result2_df.head(5)"
      ],
      "execution_count": 158,
      "outputs": [
        {
          "output_type": "execute_result",
          "data": {
            "text/html": [
              "<div>\n",
              "<style scoped>\n",
              "    .dataframe tbody tr th:only-of-type {\n",
              "        vertical-align: middle;\n",
              "    }\n",
              "\n",
              "    .dataframe tbody tr th {\n",
              "        vertical-align: top;\n",
              "    }\n",
              "\n",
              "    .dataframe thead th {\n",
              "        text-align: right;\n",
              "    }\n",
              "</style>\n",
              "<table border=\"1\" class=\"dataframe\">\n",
              "  <thead>\n",
              "    <tr style=\"text-align: right;\">\n",
              "      <th></th>\n",
              "      <th>cleaned_data</th>\n",
              "      <th>sentiment</th>\n",
              "      <th>text blob polarity</th>\n",
              "      <th>text_blob_prediction</th>\n",
              "    </tr>\n",
              "  </thead>\n",
              "  <tbody>\n",
              "    <tr>\n",
              "      <th>0</th>\n",
              "      <td>every movie comes truly makes impact joaquins ...</td>\n",
              "      <td>positive</td>\n",
              "      <td>-0.027126</td>\n",
              "      <td>negative</td>\n",
              "    </tr>\n",
              "    <tr>\n",
              "      <th>1</th>\n",
              "      <td>movie felt alone isolated truly relate underst...</td>\n",
              "      <td>Neutral</td>\n",
              "      <td>0.000000</td>\n",
              "      <td>negative</td>\n",
              "    </tr>\n",
              "    <tr>\n",
              "      <th>2</th>\n",
              "      <td>truly masterpiece best hollywood film 2019 one...</td>\n",
              "      <td>Positive</td>\n",
              "      <td>0.236250</td>\n",
              "      <td>neutral</td>\n",
              "    </tr>\n",
              "    <tr>\n",
              "      <th>3</th>\n",
              "      <td>joaquin phoenix gives tour de force performanc...</td>\n",
              "      <td>Positive</td>\n",
              "      <td>-0.081481</td>\n",
              "      <td>negative</td>\n",
              "    </tr>\n",
              "    <tr>\n",
              "      <th>4</th>\n",
              "      <td>time movies anticipated like end falling short...</td>\n",
              "      <td>Neutral</td>\n",
              "      <td>0.057143</td>\n",
              "      <td>negative</td>\n",
              "    </tr>\n",
              "  </tbody>\n",
              "</table>\n",
              "</div>"
            ],
            "text/plain": [
              "                                        cleaned_data  ... text_blob_prediction\n",
              "0  every movie comes truly makes impact joaquins ...  ...             negative\n",
              "1  movie felt alone isolated truly relate underst...  ...             negative\n",
              "2  truly masterpiece best hollywood film 2019 one...  ...              neutral\n",
              "3  joaquin phoenix gives tour de force performanc...  ...             negative\n",
              "4  time movies anticipated like end falling short...  ...             negative\n",
              "\n",
              "[5 rows x 4 columns]"
            ]
          },
          "metadata": {
            "tags": []
          },
          "execution_count": 158
        }
      ]
    },
    {
      "cell_type": "code",
      "metadata": {
        "id": "xi7YuiEIeQYv",
        "outputId": "a6cf74bd-7d68-42a7-8d45-55ddc3dd3377",
        "colab": {
          "base_uri": "https://localhost:8080/"
        }
      },
      "source": [
        "nltk.download('vader_lexicon')"
      ],
      "execution_count": 159,
      "outputs": [
        {
          "output_type": "stream",
          "text": [
            "[nltk_data] Downloading package vader_lexicon to /root/nltk_data...\n",
            "[nltk_data]   Package vader_lexicon is already up-to-date!\n"
          ],
          "name": "stdout"
        },
        {
          "output_type": "execute_result",
          "data": {
            "text/plain": [
              "True"
            ]
          },
          "metadata": {
            "tags": []
          },
          "execution_count": 159
        }
      ]
    },
    {
      "cell_type": "code",
      "metadata": {
        "id": "JFdWh140XGlg"
      },
      "source": [
        "from nltk.sentiment.vader import SentimentIntensityAnalyzer\n",
        "sia = SentimentIntensityAnalyzer()"
      ],
      "execution_count": 160,
      "outputs": []
    },
    {
      "cell_type": "code",
      "metadata": {
        "id": "8rVT7zvzbwBb"
      },
      "source": [
        "\n",
        "result2_df[\"vander positive polarity\"] = result2_df[\"cleaned_data\"].apply(lambda x: sia.polarity_scores(str(x))[\"pos\"])\n",
        "result2_df[\"vander neagtive polarity\"] = result2_df[\"cleaned_data\"].apply(lambda x: sia.polarity_scores(str(x))[\"neg\"])\n",
        "result2_df[\"vander neutral polarity\"] = result2_df[\"cleaned_data\"].apply(lambda x: sia.polarity_scores(str(x))[\"neu\"])\n",
        "result2_df[\"vander total polarity\"] = result2_df[\"cleaned_data\"].apply(lambda x: sia.polarity_scores(str(x))[\"compound\"])"
      ],
      "execution_count": 161,
      "outputs": []
    },
    {
      "cell_type": "code",
      "metadata": {
        "id": "0Poso6IvYPkX",
        "outputId": "b4657785-1edf-4f05-f650-0888210ffb93",
        "colab": {
          "base_uri": "https://localhost:8080/",
          "height": 408
        }
      },
      "source": [
        "result2_df['vander_prediction'] = pd.cut(result2_df['vander total polarity'], bins=5, labels=[\"negative\",\"negative\", \"neutral\", \"positive\",\"positive\"],ordered=False)\n",
        "result2_df.head(5)"
      ],
      "execution_count": 164,
      "outputs": [
        {
          "output_type": "execute_result",
          "data": {
            "text/html": [
              "<div>\n",
              "<style scoped>\n",
              "    .dataframe tbody tr th:only-of-type {\n",
              "        vertical-align: middle;\n",
              "    }\n",
              "\n",
              "    .dataframe tbody tr th {\n",
              "        vertical-align: top;\n",
              "    }\n",
              "\n",
              "    .dataframe thead th {\n",
              "        text-align: right;\n",
              "    }\n",
              "</style>\n",
              "<table border=\"1\" class=\"dataframe\">\n",
              "  <thead>\n",
              "    <tr style=\"text-align: right;\">\n",
              "      <th></th>\n",
              "      <th>cleaned_data</th>\n",
              "      <th>sentiment</th>\n",
              "      <th>text blob polarity</th>\n",
              "      <th>text_blob_prediction</th>\n",
              "      <th>vander positive polarity</th>\n",
              "      <th>vander neagtive polarity</th>\n",
              "      <th>vander neutral polarity</th>\n",
              "      <th>vander total polarity</th>\n",
              "      <th>vander_prediction</th>\n",
              "    </tr>\n",
              "  </thead>\n",
              "  <tbody>\n",
              "    <tr>\n",
              "      <th>0</th>\n",
              "      <td>every movie comes truly makes impact joaquins ...</td>\n",
              "      <td>positive</td>\n",
              "      <td>-0.027126</td>\n",
              "      <td>negative</td>\n",
              "      <td>0.251</td>\n",
              "      <td>0.133</td>\n",
              "      <td>0.616</td>\n",
              "      <td>0.8519</td>\n",
              "      <td>positive</td>\n",
              "    </tr>\n",
              "    <tr>\n",
              "      <th>1</th>\n",
              "      <td>movie felt alone isolated truly relate underst...</td>\n",
              "      <td>Neutral</td>\n",
              "      <td>0.000000</td>\n",
              "      <td>negative</td>\n",
              "      <td>0.379</td>\n",
              "      <td>0.196</td>\n",
              "      <td>0.425</td>\n",
              "      <td>0.9042</td>\n",
              "      <td>positive</td>\n",
              "    </tr>\n",
              "    <tr>\n",
              "      <th>2</th>\n",
              "      <td>truly masterpiece best hollywood film 2019 one...</td>\n",
              "      <td>Positive</td>\n",
              "      <td>0.236250</td>\n",
              "      <td>neutral</td>\n",
              "      <td>0.339</td>\n",
              "      <td>0.115</td>\n",
              "      <td>0.545</td>\n",
              "      <td>0.9808</td>\n",
              "      <td>positive</td>\n",
              "    </tr>\n",
              "    <tr>\n",
              "      <th>3</th>\n",
              "      <td>joaquin phoenix gives tour de force performanc...</td>\n",
              "      <td>Positive</td>\n",
              "      <td>-0.081481</td>\n",
              "      <td>negative</td>\n",
              "      <td>0.198</td>\n",
              "      <td>0.086</td>\n",
              "      <td>0.717</td>\n",
              "      <td>0.6597</td>\n",
              "      <td>positive</td>\n",
              "    </tr>\n",
              "    <tr>\n",
              "      <th>4</th>\n",
              "      <td>time movies anticipated like end falling short...</td>\n",
              "      <td>Neutral</td>\n",
              "      <td>0.057143</td>\n",
              "      <td>negative</td>\n",
              "      <td>0.283</td>\n",
              "      <td>0.319</td>\n",
              "      <td>0.398</td>\n",
              "      <td>-0.5719</td>\n",
              "      <td>negative</td>\n",
              "    </tr>\n",
              "  </tbody>\n",
              "</table>\n",
              "</div>"
            ],
            "text/plain": [
              "                                        cleaned_data  ... vander_prediction\n",
              "0  every movie comes truly makes impact joaquins ...  ...          positive\n",
              "1  movie felt alone isolated truly relate underst...  ...          positive\n",
              "2  truly masterpiece best hollywood film 2019 one...  ...          positive\n",
              "3  joaquin phoenix gives tour de force performanc...  ...          positive\n",
              "4  time movies anticipated like end falling short...  ...          negative\n",
              "\n",
              "[5 rows x 9 columns]"
            ]
          },
          "metadata": {
            "tags": []
          },
          "execution_count": 164
        }
      ]
    }
  ]
}